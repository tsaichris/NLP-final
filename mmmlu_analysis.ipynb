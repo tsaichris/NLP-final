{
 "cells": [
  {
   "cell_type": "code",
<<<<<<< HEAD
   "execution_count": 1,
   "id": "0a799b84",
   "metadata": {},
   "outputs": [
    {
     "name": "stderr",
     "output_type": "stream",
     "text": [
      "/Data/home/TsaiChris/.conda/envs/nlp/lib/python3.9/site-packages/tqdm/auto.py:21: TqdmWarning: IProgress not found. Please update jupyter and ipywidgets. See https://ipywidgets.readthedocs.io/en/stable/user_install.html\n",
      "  from .autonotebook import tqdm as notebook_tqdm\n"
     ]
    }
   ],
=======
   "execution_count": null,
   "id": "f97bbdbd",
   "metadata": {},
   "outputs": [],
>>>>>>> 36b14a94a751fdc658384cfed43c832fbeb4cb51
   "source": [
    "import mmmlu_preparer\n",
    "from mmmlu_preparer.read_mmmlu_dataset import (\n",
    "    TARGET_SUBTASKS,\n",
    "    MMMLULanguage,\n",
    "    create_mmmlu_dataset,\n",
    "    sample_first_n_data_from_subtask\n",
    ")\n",
    "from mmmlu_preparer.query_formats import (\n",
    "    InputFormat,\n",
    "    OutputFormat,\n",
    "    ShuffleMethod,\n",
    "    get_current_queries\n",
    ")\n",
    "\n",
    "\n",
<<<<<<< HEAD
    "model_list = ['gemini-2.0-flash', 'mistral-small-2503', 'llama-v3p1-8b-instruct']\n",
    "lang_list = list(MMMLULanguage)\n",
    "input_output_list = [('base', 'base'), ('base', 'json-full'), ('base', 'xml-full'),('json', 'base'),('json', 'json-full'),('json', 'xml-full'), ('xml', 'base'),('xml', 'json-full'),('xml', 'xml-full')]\n",
=======
    "model_list = ['gemini-2.0-flash', 'mistral-small-2503']\n",
    "lang_list = list(MMMLULanguage)\n",
    "input_output_list = [('base', 'base'), ('base', 'json-full'), ('json', 'json-full'), ('xml', 'base')]\n",
>>>>>>> 36b14a94a751fdc658384cfed43c832fbeb4cb51
    "shuffle_list = list(ShuffleMethod)"
   ]
  },
  {
   "cell_type": "code",
<<<<<<< HEAD
   "execution_count": 2,
   "id": "40282408",
=======
   "execution_count": null,
   "id": "be5b0be8",
>>>>>>> 36b14a94a751fdc658384cfed43c832fbeb4cb51
   "metadata": {},
   "outputs": [],
   "source": [
    "import pandas as pd\n",
    "\n",
    "# Format\n",
    "\n",
    "# experiment_save_dict = {\n",
    "#     \"Model\": \"\",\n",
    "#     \"Language\": \"\",\n",
    "#     \"Subtask\": \"\",\n",
    "#     \"Question id in subtask\": \"\",\n",
    "#     \"Shuffle method\": \"\",\n",
    "#     \"Original to shuffled\": \"\",\n",
    "#     \"Input format\": \"\",\n",
    "#     \"Output format\": \"\",\n",
    "#     \"Query\": \"\",\n",
    "#     \"Original correct answer\": \"\",\n",
    "#     \"Shuffled correct answer\": \"\",\n",
    "#     \"Response answer\": \"\",\n",
    "#     \"Model output\": \"\",  # Output text only\n",
    "# }"
   ]
  },
  {
   "cell_type": "code",
<<<<<<< HEAD
   "execution_count": 3,
   "id": "7ca06b42",
   "metadata": {},
   "outputs": [
    {
     "name": "stderr",
     "output_type": "stream",
     "text": [
      "100%|██████████| 162/162 [00:00<00:00, 158386.30it/s]\n"
     ]
    },
    {
     "name": "stdout",
     "output_type": "stream",
     "text": [
      "gemini-2.0-flash_en_base_input_base_output_default_shuffle.jsonl\n",
      "gemini-2.0-flash_en_base_input_base_output_reverse_shuffle.jsonl\n",
      "gemini-2.0-flash_en_base_input_base_output_longest-first_shuffle.jsonl\n",
      "gemini-2.0-flash_en_base_input_base_output_shortest-first_shuffle.jsonl\n",
      "gemini-2.0-flash_en_base_input_base_output_most-kana-ratio_shuffle.jsonl\n",
      "gemini-2.0-flash_en_base_input_base_output_fewest-kana-ratio_shuffle.jsonl\n",
      "gemini-2.0-flash_en_base_input_json-full_output_default_shuffle.jsonl\n",
      "gemini-2.0-flash_en_base_input_json-full_output_reverse_shuffle.jsonl\n",
      "gemini-2.0-flash_en_base_input_json-full_output_longest-first_shuffle.jsonl\n",
      "gemini-2.0-flash_en_base_input_json-full_output_shortest-first_shuffle.jsonl\n",
      "gemini-2.0-flash_en_base_input_json-full_output_most-kana-ratio_shuffle.jsonl\n",
      "gemini-2.0-flash_en_base_input_json-full_output_fewest-kana-ratio_shuffle.jsonl\n",
      "gemini-2.0-flash_en_base_input_xml-full_output_default_shuffle.jsonl\n",
      "gemini-2.0-flash_en_base_input_xml-full_output_reverse_shuffle.jsonl\n",
      "gemini-2.0-flash_en_base_input_xml-full_output_longest-first_shuffle.jsonl\n",
      "gemini-2.0-flash_en_base_input_xml-full_output_shortest-first_shuffle.jsonl\n",
      "gemini-2.0-flash_en_base_input_xml-full_output_most-kana-ratio_shuffle.jsonl\n",
      "gemini-2.0-flash_en_base_input_xml-full_output_fewest-kana-ratio_shuffle.jsonl\n",
      "gemini-2.0-flash_en_json_input_base_output_default_shuffle.jsonl\n",
      "gemini-2.0-flash_en_json_input_base_output_reverse_shuffle.jsonl\n",
      "gemini-2.0-flash_en_json_input_base_output_longest-first_shuffle.jsonl\n",
      "gemini-2.0-flash_en_json_input_base_output_shortest-first_shuffle.jsonl\n",
      "gemini-2.0-flash_en_json_input_base_output_most-kana-ratio_shuffle.jsonl\n",
      "gemini-2.0-flash_en_json_input_base_output_fewest-kana-ratio_shuffle.jsonl\n",
      "gemini-2.0-flash_en_json_input_json-full_output_default_shuffle.jsonl\n",
      "gemini-2.0-flash_en_json_input_json-full_output_reverse_shuffle.jsonl\n",
      "gemini-2.0-flash_en_json_input_json-full_output_longest-first_shuffle.jsonl\n",
      "gemini-2.0-flash_en_json_input_json-full_output_shortest-first_shuffle.jsonl\n",
      "gemini-2.0-flash_en_json_input_json-full_output_most-kana-ratio_shuffle.jsonl\n",
      "gemini-2.0-flash_en_json_input_json-full_output_fewest-kana-ratio_shuffle.jsonl\n",
      "gemini-2.0-flash_en_json_input_xml-full_output_default_shuffle.jsonl\n",
      "gemini-2.0-flash_en_json_input_xml-full_output_reverse_shuffle.jsonl\n",
      "gemini-2.0-flash_en_json_input_xml-full_output_longest-first_shuffle.jsonl\n",
      "gemini-2.0-flash_en_json_input_xml-full_output_shortest-first_shuffle.jsonl\n",
      "gemini-2.0-flash_en_json_input_xml-full_output_most-kana-ratio_shuffle.jsonl\n",
      "gemini-2.0-flash_en_json_input_xml-full_output_fewest-kana-ratio_shuffle.jsonl\n",
      "gemini-2.0-flash_en_xml_input_base_output_default_shuffle.jsonl\n",
      "gemini-2.0-flash_en_xml_input_base_output_reverse_shuffle.jsonl\n",
      "gemini-2.0-flash_en_xml_input_base_output_longest-first_shuffle.jsonl\n",
      "gemini-2.0-flash_en_xml_input_base_output_shortest-first_shuffle.jsonl\n",
      "gemini-2.0-flash_en_xml_input_base_output_most-kana-ratio_shuffle.jsonl\n",
      "gemini-2.0-flash_en_xml_input_base_output_fewest-kana-ratio_shuffle.jsonl\n",
      "gemini-2.0-flash_en_xml_input_json-full_output_default_shuffle.jsonl\n",
      "gemini-2.0-flash_en_xml_input_json-full_output_reverse_shuffle.jsonl\n",
      "gemini-2.0-flash_en_xml_input_json-full_output_longest-first_shuffle.jsonl\n",
      "gemini-2.0-flash_en_xml_input_json-full_output_shortest-first_shuffle.jsonl\n",
      "gemini-2.0-flash_en_xml_input_json-full_output_most-kana-ratio_shuffle.jsonl\n",
      "gemini-2.0-flash_en_xml_input_json-full_output_fewest-kana-ratio_shuffle.jsonl\n",
      "gemini-2.0-flash_en_xml_input_xml-full_output_default_shuffle.jsonl\n",
      "gemini-2.0-flash_en_xml_input_xml-full_output_reverse_shuffle.jsonl\n",
      "gemini-2.0-flash_en_xml_input_xml-full_output_longest-first_shuffle.jsonl\n",
      "gemini-2.0-flash_en_xml_input_xml-full_output_shortest-first_shuffle.jsonl\n",
      "gemini-2.0-flash_en_xml_input_xml-full_output_most-kana-ratio_shuffle.jsonl\n",
      "gemini-2.0-flash_en_xml_input_xml-full_output_fewest-kana-ratio_shuffle.jsonl\n",
      "mistral-small-2503_en_base_input_base_output_default_shuffle.jsonl\n",
      "mistral-small-2503_en_base_input_base_output_reverse_shuffle.jsonl\n",
      "mistral-small-2503_en_base_input_base_output_longest-first_shuffle.jsonl\n",
      "mistral-small-2503_en_base_input_base_output_shortest-first_shuffle.jsonl\n",
      "mistral-small-2503_en_base_input_base_output_most-kana-ratio_shuffle.jsonl\n",
      "mistral-small-2503_en_base_input_base_output_fewest-kana-ratio_shuffle.jsonl\n",
      "mistral-small-2503_en_base_input_json-full_output_default_shuffle.jsonl\n",
      "mistral-small-2503_en_base_input_json-full_output_reverse_shuffle.jsonl\n",
      "mistral-small-2503_en_base_input_json-full_output_longest-first_shuffle.jsonl\n",
      "mistral-small-2503_en_base_input_json-full_output_shortest-first_shuffle.jsonl\n",
      "mistral-small-2503_en_base_input_json-full_output_most-kana-ratio_shuffle.jsonl\n",
      "mistral-small-2503_en_base_input_json-full_output_fewest-kana-ratio_shuffle.jsonl\n",
      "mistral-small-2503_en_base_input_xml-full_output_default_shuffle.jsonl\n",
      "mistral-small-2503_en_base_input_xml-full_output_reverse_shuffle.jsonl\n",
      "mistral-small-2503_en_base_input_xml-full_output_longest-first_shuffle.jsonl\n",
      "mistral-small-2503_en_base_input_xml-full_output_shortest-first_shuffle.jsonl\n",
      "mistral-small-2503_en_base_input_xml-full_output_most-kana-ratio_shuffle.jsonl\n",
      "mistral-small-2503_en_base_input_xml-full_output_fewest-kana-ratio_shuffle.jsonl\n",
      "mistral-small-2503_en_json_input_base_output_default_shuffle.jsonl\n",
      "mistral-small-2503_en_json_input_base_output_reverse_shuffle.jsonl\n",
      "mistral-small-2503_en_json_input_base_output_longest-first_shuffle.jsonl\n",
      "mistral-small-2503_en_json_input_base_output_shortest-first_shuffle.jsonl\n",
      "mistral-small-2503_en_json_input_base_output_most-kana-ratio_shuffle.jsonl\n",
      "mistral-small-2503_en_json_input_base_output_fewest-kana-ratio_shuffle.jsonl\n",
      "mistral-small-2503_en_json_input_json-full_output_default_shuffle.jsonl\n",
      "mistral-small-2503_en_json_input_json-full_output_reverse_shuffle.jsonl\n",
      "mistral-small-2503_en_json_input_json-full_output_longest-first_shuffle.jsonl\n",
      "mistral-small-2503_en_json_input_json-full_output_shortest-first_shuffle.jsonl\n",
      "mistral-small-2503_en_json_input_json-full_output_most-kana-ratio_shuffle.jsonl\n",
      "mistral-small-2503_en_json_input_json-full_output_fewest-kana-ratio_shuffle.jsonl\n",
      "mistral-small-2503_en_json_input_xml-full_output_default_shuffle.jsonl\n",
      "mistral-small-2503_en_json_input_xml-full_output_reverse_shuffle.jsonl\n",
      "mistral-small-2503_en_json_input_xml-full_output_longest-first_shuffle.jsonl\n",
      "mistral-small-2503_en_json_input_xml-full_output_shortest-first_shuffle.jsonl\n",
      "mistral-small-2503_en_json_input_xml-full_output_most-kana-ratio_shuffle.jsonl\n",
      "mistral-small-2503_en_json_input_xml-full_output_fewest-kana-ratio_shuffle.jsonl\n",
      "mistral-small-2503_en_xml_input_base_output_default_shuffle.jsonl\n",
      "mistral-small-2503_en_xml_input_base_output_reverse_shuffle.jsonl\n",
      "mistral-small-2503_en_xml_input_base_output_longest-first_shuffle.jsonl\n",
      "mistral-small-2503_en_xml_input_base_output_shortest-first_shuffle.jsonl\n",
      "mistral-small-2503_en_xml_input_base_output_most-kana-ratio_shuffle.jsonl\n",
      "mistral-small-2503_en_xml_input_base_output_fewest-kana-ratio_shuffle.jsonl\n",
      "mistral-small-2503_en_xml_input_json-full_output_default_shuffle.jsonl\n",
      "mistral-small-2503_en_xml_input_json-full_output_reverse_shuffle.jsonl\n",
      "mistral-small-2503_en_xml_input_json-full_output_longest-first_shuffle.jsonl\n",
      "mistral-small-2503_en_xml_input_json-full_output_shortest-first_shuffle.jsonl\n",
      "mistral-small-2503_en_xml_input_json-full_output_most-kana-ratio_shuffle.jsonl\n",
      "mistral-small-2503_en_xml_input_json-full_output_fewest-kana-ratio_shuffle.jsonl\n",
      "mistral-small-2503_en_xml_input_xml-full_output_default_shuffle.jsonl\n",
      "mistral-small-2503_en_xml_input_xml-full_output_reverse_shuffle.jsonl\n",
      "mistral-small-2503_en_xml_input_xml-full_output_longest-first_shuffle.jsonl\n",
      "mistral-small-2503_en_xml_input_xml-full_output_shortest-first_shuffle.jsonl\n",
      "mistral-small-2503_en_xml_input_xml-full_output_most-kana-ratio_shuffle.jsonl\n",
      "mistral-small-2503_en_xml_input_xml-full_output_fewest-kana-ratio_shuffle.jsonl\n",
      "llama-v3p1-8b-instruct_en_base_input_base_output_default_shuffle.jsonl\n",
      "llama-v3p1-8b-instruct_en_base_input_base_output_reverse_shuffle.jsonl\n",
      "llama-v3p1-8b-instruct_en_base_input_base_output_longest-first_shuffle.jsonl\n",
      "llama-v3p1-8b-instruct_en_base_input_base_output_shortest-first_shuffle.jsonl\n",
      "llama-v3p1-8b-instruct_en_base_input_base_output_most-kana-ratio_shuffle.jsonl\n",
      "llama-v3p1-8b-instruct_en_base_input_base_output_fewest-kana-ratio_shuffle.jsonl\n",
      "llama-v3p1-8b-instruct_en_base_input_json-full_output_default_shuffle.jsonl\n",
      "llama-v3p1-8b-instruct_en_base_input_json-full_output_reverse_shuffle.jsonl\n",
      "llama-v3p1-8b-instruct_en_base_input_json-full_output_longest-first_shuffle.jsonl\n",
      "llama-v3p1-8b-instruct_en_base_input_json-full_output_shortest-first_shuffle.jsonl\n",
      "llama-v3p1-8b-instruct_en_base_input_json-full_output_most-kana-ratio_shuffle.jsonl\n",
      "llama-v3p1-8b-instruct_en_base_input_json-full_output_fewest-kana-ratio_shuffle.jsonl\n",
      "llama-v3p1-8b-instruct_en_base_input_xml-full_output_default_shuffle.jsonl\n",
      "llama-v3p1-8b-instruct_en_base_input_xml-full_output_reverse_shuffle.jsonl\n",
      "llama-v3p1-8b-instruct_en_base_input_xml-full_output_longest-first_shuffle.jsonl\n",
      "llama-v3p1-8b-instruct_en_base_input_xml-full_output_shortest-first_shuffle.jsonl\n",
      "llama-v3p1-8b-instruct_en_base_input_xml-full_output_most-kana-ratio_shuffle.jsonl\n",
      "llama-v3p1-8b-instruct_en_base_input_xml-full_output_fewest-kana-ratio_shuffle.jsonl\n",
      "llama-v3p1-8b-instruct_en_json_input_base_output_default_shuffle.jsonl\n",
      "llama-v3p1-8b-instruct_en_json_input_base_output_reverse_shuffle.jsonl\n",
      "llama-v3p1-8b-instruct_en_json_input_base_output_longest-first_shuffle.jsonl\n",
      "llama-v3p1-8b-instruct_en_json_input_base_output_shortest-first_shuffle.jsonl\n",
      "llama-v3p1-8b-instruct_en_json_input_base_output_most-kana-ratio_shuffle.jsonl\n",
      "llama-v3p1-8b-instruct_en_json_input_base_output_fewest-kana-ratio_shuffle.jsonl\n",
      "llama-v3p1-8b-instruct_en_json_input_json-full_output_default_shuffle.jsonl\n",
      "llama-v3p1-8b-instruct_en_json_input_json-full_output_reverse_shuffle.jsonl\n",
      "llama-v3p1-8b-instruct_en_json_input_json-full_output_longest-first_shuffle.jsonl\n",
      "llama-v3p1-8b-instruct_en_json_input_json-full_output_shortest-first_shuffle.jsonl\n",
      "llama-v3p1-8b-instruct_en_json_input_json-full_output_most-kana-ratio_shuffle.jsonl\n",
      "llama-v3p1-8b-instruct_en_json_input_json-full_output_fewest-kana-ratio_shuffle.jsonl\n",
      "llama-v3p1-8b-instruct_en_json_input_xml-full_output_default_shuffle.jsonl\n",
      "llama-v3p1-8b-instruct_en_json_input_xml-full_output_reverse_shuffle.jsonl\n",
      "llama-v3p1-8b-instruct_en_json_input_xml-full_output_longest-first_shuffle.jsonl\n",
      "llama-v3p1-8b-instruct_en_json_input_xml-full_output_shortest-first_shuffle.jsonl\n",
      "llama-v3p1-8b-instruct_en_json_input_xml-full_output_most-kana-ratio_shuffle.jsonl\n",
      "llama-v3p1-8b-instruct_en_json_input_xml-full_output_fewest-kana-ratio_shuffle.jsonl\n",
      "llama-v3p1-8b-instruct_en_xml_input_base_output_default_shuffle.jsonl\n",
      "llama-v3p1-8b-instruct_en_xml_input_base_output_reverse_shuffle.jsonl\n",
      "llama-v3p1-8b-instruct_en_xml_input_base_output_longest-first_shuffle.jsonl\n",
      "llama-v3p1-8b-instruct_en_xml_input_base_output_shortest-first_shuffle.jsonl\n",
      "llama-v3p1-8b-instruct_en_xml_input_base_output_most-kana-ratio_shuffle.jsonl\n",
      "llama-v3p1-8b-instruct_en_xml_input_base_output_fewest-kana-ratio_shuffle.jsonl\n",
      "llama-v3p1-8b-instruct_en_xml_input_json-full_output_default_shuffle.jsonl\n",
      "llama-v3p1-8b-instruct_en_xml_input_json-full_output_reverse_shuffle.jsonl\n",
      "llama-v3p1-8b-instruct_en_xml_input_json-full_output_longest-first_shuffle.jsonl\n",
      "llama-v3p1-8b-instruct_en_xml_input_json-full_output_shortest-first_shuffle.jsonl\n",
      "llama-v3p1-8b-instruct_en_xml_input_json-full_output_most-kana-ratio_shuffle.jsonl\n",
      "llama-v3p1-8b-instruct_en_xml_input_json-full_output_fewest-kana-ratio_shuffle.jsonl\n",
      "llama-v3p1-8b-instruct_en_xml_input_xml-full_output_default_shuffle.jsonl\n",
      "llama-v3p1-8b-instruct_en_xml_input_xml-full_output_reverse_shuffle.jsonl\n",
      "llama-v3p1-8b-instruct_en_xml_input_xml-full_output_longest-first_shuffle.jsonl\n",
      "llama-v3p1-8b-instruct_en_xml_input_xml-full_output_shortest-first_shuffle.jsonl\n",
      "llama-v3p1-8b-instruct_en_xml_input_xml-full_output_most-kana-ratio_shuffle.jsonl\n",
      "llama-v3p1-8b-instruct_en_xml_input_xml-full_output_fewest-kana-ratio_shuffle.jsonl\n"
     ]
    },
    {
     "name": "stderr",
     "output_type": "stream",
     "text": [
      "100%|██████████| 162/162 [00:00<00:00, 157177.25it/s]"
     ]
    },
    {
     "name": "stdout",
     "output_type": "stream",
     "text": [
      "gemini-2.0-flash_ja-jp_base_input_base_output_default_shuffle.jsonl\n",
      "gemini-2.0-flash_ja-jp_base_input_base_output_reverse_shuffle.jsonl\n",
      "gemini-2.0-flash_ja-jp_base_input_base_output_longest-first_shuffle.jsonl\n",
      "gemini-2.0-flash_ja-jp_base_input_base_output_shortest-first_shuffle.jsonl\n",
      "gemini-2.0-flash_ja-jp_base_input_base_output_most-kana-ratio_shuffle.jsonl\n",
      "gemini-2.0-flash_ja-jp_base_input_base_output_fewest-kana-ratio_shuffle.jsonl\n",
      "gemini-2.0-flash_ja-jp_base_input_json-full_output_default_shuffle.jsonl\n",
      "gemini-2.0-flash_ja-jp_base_input_json-full_output_reverse_shuffle.jsonl\n",
      "gemini-2.0-flash_ja-jp_base_input_json-full_output_longest-first_shuffle.jsonl\n",
      "gemini-2.0-flash_ja-jp_base_input_json-full_output_shortest-first_shuffle.jsonl\n",
      "gemini-2.0-flash_ja-jp_base_input_json-full_output_most-kana-ratio_shuffle.jsonl\n",
      "gemini-2.0-flash_ja-jp_base_input_json-full_output_fewest-kana-ratio_shuffle.jsonl\n",
      "gemini-2.0-flash_ja-jp_base_input_xml-full_output_default_shuffle.jsonl\n",
      "gemini-2.0-flash_ja-jp_base_input_xml-full_output_reverse_shuffle.jsonl\n",
      "gemini-2.0-flash_ja-jp_base_input_xml-full_output_longest-first_shuffle.jsonl\n",
      "gemini-2.0-flash_ja-jp_base_input_xml-full_output_shortest-first_shuffle.jsonl\n",
      "gemini-2.0-flash_ja-jp_base_input_xml-full_output_most-kana-ratio_shuffle.jsonl\n",
      "gemini-2.0-flash_ja-jp_base_input_xml-full_output_fewest-kana-ratio_shuffle.jsonl\n",
      "gemini-2.0-flash_ja-jp_json_input_base_output_default_shuffle.jsonl\n",
      "gemini-2.0-flash_ja-jp_json_input_base_output_reverse_shuffle.jsonl\n",
      "gemini-2.0-flash_ja-jp_json_input_base_output_longest-first_shuffle.jsonl\n",
      "gemini-2.0-flash_ja-jp_json_input_base_output_shortest-first_shuffle.jsonl\n",
      "gemini-2.0-flash_ja-jp_json_input_base_output_most-kana-ratio_shuffle.jsonl\n",
      "gemini-2.0-flash_ja-jp_json_input_base_output_fewest-kana-ratio_shuffle.jsonl\n",
      "gemini-2.0-flash_ja-jp_json_input_json-full_output_default_shuffle.jsonl\n",
      "gemini-2.0-flash_ja-jp_json_input_json-full_output_reverse_shuffle.jsonl\n",
      "gemini-2.0-flash_ja-jp_json_input_json-full_output_longest-first_shuffle.jsonl\n",
      "gemini-2.0-flash_ja-jp_json_input_json-full_output_shortest-first_shuffle.jsonl\n",
      "gemini-2.0-flash_ja-jp_json_input_json-full_output_most-kana-ratio_shuffle.jsonl\n",
      "gemini-2.0-flash_ja-jp_json_input_json-full_output_fewest-kana-ratio_shuffle.jsonl\n",
      "gemini-2.0-flash_ja-jp_json_input_xml-full_output_default_shuffle.jsonl\n",
      "gemini-2.0-flash_ja-jp_json_input_xml-full_output_reverse_shuffle.jsonl\n",
      "gemini-2.0-flash_ja-jp_json_input_xml-full_output_longest-first_shuffle.jsonl\n",
      "gemini-2.0-flash_ja-jp_json_input_xml-full_output_shortest-first_shuffle.jsonl\n",
      "gemini-2.0-flash_ja-jp_json_input_xml-full_output_most-kana-ratio_shuffle.jsonl\n",
      "gemini-2.0-flash_ja-jp_json_input_xml-full_output_fewest-kana-ratio_shuffle.jsonl\n",
      "gemini-2.0-flash_ja-jp_xml_input_base_output_default_shuffle.jsonl\n",
      "gemini-2.0-flash_ja-jp_xml_input_base_output_reverse_shuffle.jsonl\n",
      "gemini-2.0-flash_ja-jp_xml_input_base_output_longest-first_shuffle.jsonl\n",
      "gemini-2.0-flash_ja-jp_xml_input_base_output_shortest-first_shuffle.jsonl\n",
      "gemini-2.0-flash_ja-jp_xml_input_base_output_most-kana-ratio_shuffle.jsonl\n",
      "gemini-2.0-flash_ja-jp_xml_input_base_output_fewest-kana-ratio_shuffle.jsonl\n",
      "gemini-2.0-flash_ja-jp_xml_input_json-full_output_default_shuffle.jsonl\n",
      "gemini-2.0-flash_ja-jp_xml_input_json-full_output_reverse_shuffle.jsonl\n",
      "gemini-2.0-flash_ja-jp_xml_input_json-full_output_longest-first_shuffle.jsonl\n",
      "gemini-2.0-flash_ja-jp_xml_input_json-full_output_shortest-first_shuffle.jsonl\n",
      "gemini-2.0-flash_ja-jp_xml_input_json-full_output_most-kana-ratio_shuffle.jsonl\n",
      "gemini-2.0-flash_ja-jp_xml_input_json-full_output_fewest-kana-ratio_shuffle.jsonl\n",
      "gemini-2.0-flash_ja-jp_xml_input_xml-full_output_default_shuffle.jsonl\n",
      "gemini-2.0-flash_ja-jp_xml_input_xml-full_output_reverse_shuffle.jsonl\n",
      "gemini-2.0-flash_ja-jp_xml_input_xml-full_output_longest-first_shuffle.jsonl\n",
      "gemini-2.0-flash_ja-jp_xml_input_xml-full_output_shortest-first_shuffle.jsonl\n",
      "gemini-2.0-flash_ja-jp_xml_input_xml-full_output_most-kana-ratio_shuffle.jsonl\n",
      "gemini-2.0-flash_ja-jp_xml_input_xml-full_output_fewest-kana-ratio_shuffle.jsonl\n",
      "mistral-small-2503_ja-jp_base_input_base_output_default_shuffle.jsonl\n",
      "mistral-small-2503_ja-jp_base_input_base_output_reverse_shuffle.jsonl\n",
      "mistral-small-2503_ja-jp_base_input_base_output_longest-first_shuffle.jsonl\n",
      "mistral-small-2503_ja-jp_base_input_base_output_shortest-first_shuffle.jsonl\n",
      "mistral-small-2503_ja-jp_base_input_base_output_most-kana-ratio_shuffle.jsonl\n",
      "mistral-small-2503_ja-jp_base_input_base_output_fewest-kana-ratio_shuffle.jsonl\n",
      "mistral-small-2503_ja-jp_base_input_json-full_output_default_shuffle.jsonl\n",
      "mistral-small-2503_ja-jp_base_input_json-full_output_reverse_shuffle.jsonl\n",
      "mistral-small-2503_ja-jp_base_input_json-full_output_longest-first_shuffle.jsonl\n",
      "mistral-small-2503_ja-jp_base_input_json-full_output_shortest-first_shuffle.jsonl\n",
      "mistral-small-2503_ja-jp_base_input_json-full_output_most-kana-ratio_shuffle.jsonl\n",
      "mistral-small-2503_ja-jp_base_input_json-full_output_fewest-kana-ratio_shuffle.jsonl\n",
      "mistral-small-2503_ja-jp_base_input_xml-full_output_default_shuffle.jsonl\n",
      "mistral-small-2503_ja-jp_base_input_xml-full_output_reverse_shuffle.jsonl\n",
      "mistral-small-2503_ja-jp_base_input_xml-full_output_longest-first_shuffle.jsonl\n",
      "mistral-small-2503_ja-jp_base_input_xml-full_output_shortest-first_shuffle.jsonl\n",
      "mistral-small-2503_ja-jp_base_input_xml-full_output_most-kana-ratio_shuffle.jsonl\n",
      "mistral-small-2503_ja-jp_base_input_xml-full_output_fewest-kana-ratio_shuffle.jsonl\n",
      "mistral-small-2503_ja-jp_json_input_base_output_default_shuffle.jsonl\n",
      "mistral-small-2503_ja-jp_json_input_base_output_reverse_shuffle.jsonl\n",
      "mistral-small-2503_ja-jp_json_input_base_output_longest-first_shuffle.jsonl\n",
      "mistral-small-2503_ja-jp_json_input_base_output_shortest-first_shuffle.jsonl\n",
      "mistral-small-2503_ja-jp_json_input_base_output_most-kana-ratio_shuffle.jsonl\n",
      "mistral-small-2503_ja-jp_json_input_base_output_fewest-kana-ratio_shuffle.jsonl\n",
      "mistral-small-2503_ja-jp_json_input_json-full_output_default_shuffle.jsonl\n",
      "mistral-small-2503_ja-jp_json_input_json-full_output_reverse_shuffle.jsonl\n",
      "mistral-small-2503_ja-jp_json_input_json-full_output_longest-first_shuffle.jsonl\n",
      "mistral-small-2503_ja-jp_json_input_json-full_output_shortest-first_shuffle.jsonl\n",
      "mistral-small-2503_ja-jp_json_input_json-full_output_most-kana-ratio_shuffle.jsonl\n",
      "mistral-small-2503_ja-jp_json_input_json-full_output_fewest-kana-ratio_shuffle.jsonl\n",
      "mistral-small-2503_ja-jp_json_input_xml-full_output_default_shuffle.jsonl\n",
      "mistral-small-2503_ja-jp_json_input_xml-full_output_reverse_shuffle.jsonl\n",
      "mistral-small-2503_ja-jp_json_input_xml-full_output_longest-first_shuffle.jsonl\n",
      "mistral-small-2503_ja-jp_json_input_xml-full_output_shortest-first_shuffle.jsonl\n",
      "mistral-small-2503_ja-jp_json_input_xml-full_output_most-kana-ratio_shuffle.jsonl\n",
      "mistral-small-2503_ja-jp_json_input_xml-full_output_fewest-kana-ratio_shuffle.jsonl\n",
      "mistral-small-2503_ja-jp_xml_input_base_output_default_shuffle.jsonl\n",
      "mistral-small-2503_ja-jp_xml_input_base_output_reverse_shuffle.jsonl\n",
      "mistral-small-2503_ja-jp_xml_input_base_output_longest-first_shuffle.jsonl\n",
      "mistral-small-2503_ja-jp_xml_input_base_output_shortest-first_shuffle.jsonl\n",
      "mistral-small-2503_ja-jp_xml_input_base_output_most-kana-ratio_shuffle.jsonl\n",
      "mistral-small-2503_ja-jp_xml_input_base_output_fewest-kana-ratio_shuffle.jsonl\n",
      "mistral-small-2503_ja-jp_xml_input_json-full_output_default_shuffle.jsonl\n",
      "mistral-small-2503_ja-jp_xml_input_json-full_output_reverse_shuffle.jsonl\n",
      "mistral-small-2503_ja-jp_xml_input_json-full_output_longest-first_shuffle.jsonl\n",
      "mistral-small-2503_ja-jp_xml_input_json-full_output_shortest-first_shuffle.jsonl\n",
      "mistral-small-2503_ja-jp_xml_input_json-full_output_most-kana-ratio_shuffle.jsonl\n",
      "mistral-small-2503_ja-jp_xml_input_json-full_output_fewest-kana-ratio_shuffle.jsonl\n",
      "mistral-small-2503_ja-jp_xml_input_xml-full_output_default_shuffle.jsonl\n",
      "mistral-small-2503_ja-jp_xml_input_xml-full_output_reverse_shuffle.jsonl\n",
      "mistral-small-2503_ja-jp_xml_input_xml-full_output_longest-first_shuffle.jsonl\n",
      "mistral-small-2503_ja-jp_xml_input_xml-full_output_shortest-first_shuffle.jsonl\n",
      "mistral-small-2503_ja-jp_xml_input_xml-full_output_most-kana-ratio_shuffle.jsonl\n",
      "mistral-small-2503_ja-jp_xml_input_xml-full_output_fewest-kana-ratio_shuffle.jsonl\n",
      "llama-v3p1-8b-instruct_ja-jp_base_input_base_output_default_shuffle.jsonl\n",
      "llama-v3p1-8b-instruct_ja-jp_base_input_base_output_reverse_shuffle.jsonl\n",
      "llama-v3p1-8b-instruct_ja-jp_base_input_base_output_longest-first_shuffle.jsonl\n",
      "llama-v3p1-8b-instruct_ja-jp_base_input_base_output_shortest-first_shuffle.jsonl\n",
      "llama-v3p1-8b-instruct_ja-jp_base_input_base_output_most-kana-ratio_shuffle.jsonl\n",
      "llama-v3p1-8b-instruct_ja-jp_base_input_base_output_fewest-kana-ratio_shuffle.jsonl\n",
      "llama-v3p1-8b-instruct_ja-jp_base_input_json-full_output_default_shuffle.jsonl\n",
      "llama-v3p1-8b-instruct_ja-jp_base_input_json-full_output_reverse_shuffle.jsonl\n",
      "llama-v3p1-8b-instruct_ja-jp_base_input_json-full_output_longest-first_shuffle.jsonl\n",
      "llama-v3p1-8b-instruct_ja-jp_base_input_json-full_output_shortest-first_shuffle.jsonl\n",
      "llama-v3p1-8b-instruct_ja-jp_base_input_json-full_output_most-kana-ratio_shuffle.jsonl\n",
      "llama-v3p1-8b-instruct_ja-jp_base_input_json-full_output_fewest-kana-ratio_shuffle.jsonl\n",
      "llama-v3p1-8b-instruct_ja-jp_base_input_xml-full_output_default_shuffle.jsonl\n",
      "llama-v3p1-8b-instruct_ja-jp_base_input_xml-full_output_reverse_shuffle.jsonl\n",
      "llama-v3p1-8b-instruct_ja-jp_base_input_xml-full_output_longest-first_shuffle.jsonl\n",
      "llama-v3p1-8b-instruct_ja-jp_base_input_xml-full_output_shortest-first_shuffle.jsonl\n",
      "llama-v3p1-8b-instruct_ja-jp_base_input_xml-full_output_most-kana-ratio_shuffle.jsonl\n",
      "llama-v3p1-8b-instruct_ja-jp_base_input_xml-full_output_fewest-kana-ratio_shuffle.jsonl\n",
      "llama-v3p1-8b-instruct_ja-jp_json_input_base_output_default_shuffle.jsonl\n",
      "llama-v3p1-8b-instruct_ja-jp_json_input_base_output_reverse_shuffle.jsonl\n",
      "llama-v3p1-8b-instruct_ja-jp_json_input_base_output_longest-first_shuffle.jsonl\n",
      "llama-v3p1-8b-instruct_ja-jp_json_input_base_output_shortest-first_shuffle.jsonl\n",
      "llama-v3p1-8b-instruct_ja-jp_json_input_base_output_most-kana-ratio_shuffle.jsonl\n",
      "llama-v3p1-8b-instruct_ja-jp_json_input_base_output_fewest-kana-ratio_shuffle.jsonl\n",
      "llama-v3p1-8b-instruct_ja-jp_json_input_json-full_output_default_shuffle.jsonl\n",
      "llama-v3p1-8b-instruct_ja-jp_json_input_json-full_output_reverse_shuffle.jsonl\n",
      "llama-v3p1-8b-instruct_ja-jp_json_input_json-full_output_longest-first_shuffle.jsonl\n",
      "llama-v3p1-8b-instruct_ja-jp_json_input_json-full_output_shortest-first_shuffle.jsonl\n",
      "llama-v3p1-8b-instruct_ja-jp_json_input_json-full_output_most-kana-ratio_shuffle.jsonl\n",
      "llama-v3p1-8b-instruct_ja-jp_json_input_json-full_output_fewest-kana-ratio_shuffle.jsonl\n",
      "llama-v3p1-8b-instruct_ja-jp_json_input_xml-full_output_default_shuffle.jsonl\n",
      "llama-v3p1-8b-instruct_ja-jp_json_input_xml-full_output_reverse_shuffle.jsonl\n",
      "llama-v3p1-8b-instruct_ja-jp_json_input_xml-full_output_longest-first_shuffle.jsonl\n",
      "llama-v3p1-8b-instruct_ja-jp_json_input_xml-full_output_shortest-first_shuffle.jsonl\n",
      "llama-v3p1-8b-instruct_ja-jp_json_input_xml-full_output_most-kana-ratio_shuffle.jsonl\n",
      "llama-v3p1-8b-instruct_ja-jp_json_input_xml-full_output_fewest-kana-ratio_shuffle.jsonl\n",
      "llama-v3p1-8b-instruct_ja-jp_xml_input_base_output_default_shuffle.jsonl\n",
      "llama-v3p1-8b-instruct_ja-jp_xml_input_base_output_reverse_shuffle.jsonl\n",
      "llama-v3p1-8b-instruct_ja-jp_xml_input_base_output_longest-first_shuffle.jsonl\n",
      "llama-v3p1-8b-instruct_ja-jp_xml_input_base_output_shortest-first_shuffle.jsonl\n",
      "llama-v3p1-8b-instruct_ja-jp_xml_input_base_output_most-kana-ratio_shuffle.jsonl\n",
      "llama-v3p1-8b-instruct_ja-jp_xml_input_base_output_fewest-kana-ratio_shuffle.jsonl\n",
      "llama-v3p1-8b-instruct_ja-jp_xml_input_json-full_output_default_shuffle.jsonl\n",
      "llama-v3p1-8b-instruct_ja-jp_xml_input_json-full_output_reverse_shuffle.jsonl\n",
      "llama-v3p1-8b-instruct_ja-jp_xml_input_json-full_output_longest-first_shuffle.jsonl\n",
      "llama-v3p1-8b-instruct_ja-jp_xml_input_json-full_output_shortest-first_shuffle.jsonl\n",
      "llama-v3p1-8b-instruct_ja-jp_xml_input_json-full_output_most-kana-ratio_shuffle.jsonl\n",
      "llama-v3p1-8b-instruct_ja-jp_xml_input_json-full_output_fewest-kana-ratio_shuffle.jsonl\n",
      "llama-v3p1-8b-instruct_ja-jp_xml_input_xml-full_output_default_shuffle.jsonl\n",
      "llama-v3p1-8b-instruct_ja-jp_xml_input_xml-full_output_reverse_shuffle.jsonl\n",
      "llama-v3p1-8b-instruct_ja-jp_xml_input_xml-full_output_longest-first_shuffle.jsonl\n",
      "llama-v3p1-8b-instruct_ja-jp_xml_input_xml-full_output_shortest-first_shuffle.jsonl\n",
      "llama-v3p1-8b-instruct_ja-jp_xml_input_xml-full_output_most-kana-ratio_shuffle.jsonl\n",
      "llama-v3p1-8b-instruct_ja-jp_xml_input_xml-full_output_fewest-kana-ratio_shuffle.jsonl\n"
     ]
    },
    {
     "name": "stderr",
     "output_type": "stream",
     "text": [
      "\n"
     ]
    }
   ],
   "source": [
    "from itertools import product\n",
    "from tqdm.auto import tqdm\n",
    "from collections import defaultdict\n",
    "\n",
    "chosen_subtasks = TARGET_SUBTASKS\n",
    "combinations = list(product(model_list, input_output_list, shuffle_list))\n",
    "merged_result_dict = defaultdict(list) # \"model_name:\"\n",
    "\n",
    "for lang_enum in lang_list:\n",
    "    mmmlu_ds = create_mmmlu_dataset(lang_enum)\n",
    "    chosen_subtasks = TARGET_SUBTASKS\n",
    "    mmmlu_subset = sample_first_n_data_from_subtask(mmmlu_ds, chosen_subtasks)\n",
    "    for curr_combo in tqdm(combinations):\n",
    "        model_name, format_tuple, shuffle_method_enum = curr_combo\n",
    "        input_format, output_format = format_tuple\n",
    "        lang_string = lang_enum.value.lower().replace(\"_\", \"-\")\n",
    "        shuffle_method = shuffle_method_enum.name.lower().replace(\"_\", \"-\")\n",
    "        log_file_name = f\"{model_name}_{lang_string}_{input_format}_input_{output_format}_output_{shuffle_method}_shuffle.jsonl\"\n",
    "        print(log_file_name)\n",
    "        input_format_enum = InputFormat(input_format.replace(\"-\", \"_\"))\n",
    "        output_format_enum = OutputFormat[output_format.replace(\"-\", \"_\").upper()]"
   ]
  },
  {
   "cell_type": "code",
   "execution_count": 6,
   "id": "a88d02dd",
   "metadata": {},
   "outputs": [
    {
     "name": "stderr",
     "output_type": "stream",
     "text": [
      "  0%|          | 0/162 [00:00<?, ?it/s]"
     ]
    },
    {
     "name": "stdout",
     "output_type": "stream",
     "text": [
      "gemini-2.0-flash_en_base_input_base_output_default_shuffle.jsonl\n"
     ]
    },
    {
     "name": "stderr",
     "output_type": "stream",
     "text": [
      "  1%|          | 1/162 [00:00<02:05,  1.28it/s]"
     ]
    },
    {
     "name": "stdout",
     "output_type": "stream",
     "text": [
      "gemini-2.0-flash_en_base_input_base_output_reverse_shuffle.jsonl\n"
     ]
    },
    {
     "name": "stderr",
     "output_type": "stream",
     "text": [
      "  1%|          | 2/162 [00:01<02:06,  1.27it/s]"
     ]
    },
    {
     "name": "stdout",
     "output_type": "stream",
     "text": [
      "gemini-2.0-flash_en_base_input_base_output_longest-first_shuffle.jsonl\n"
     ]
    },
    {
     "name": "stderr",
     "output_type": "stream",
     "text": [
      "  2%|▏         | 3/162 [00:02<02:10,  1.22it/s]"
     ]
    },
    {
     "name": "stdout",
     "output_type": "stream",
     "text": [
      "gemini-2.0-flash_en_base_input_base_output_shortest-first_shuffle.jsonl\n"
     ]
    },
    {
     "name": "stderr",
     "output_type": "stream",
     "text": [
      "  2%|▏         | 4/162 [00:03<02:10,  1.21it/s]"
     ]
    },
    {
     "name": "stdout",
     "output_type": "stream",
     "text": [
      "gemini-2.0-flash_en_base_input_json-full_output_default_shuffle.jsonl\n"
     ]
    },
    {
     "name": "stderr",
     "output_type": "stream",
     "text": [
      "  4%|▍         | 7/162 [00:04<01:17,  2.01it/s]"
     ]
    },
    {
     "name": "stdout",
     "output_type": "stream",
     "text": [
      "gemini-2.0-flash_en_base_input_json-full_output_reverse_shuffle.jsonl\n"
     ]
    },
    {
     "name": "stderr",
     "output_type": "stream",
     "text": [
      "  5%|▍         | 8/162 [00:05<01:31,  1.68it/s]"
     ]
    },
    {
     "name": "stdout",
     "output_type": "stream",
     "text": [
      "gemini-2.0-flash_en_base_input_json-full_output_longest-first_shuffle.jsonl\n"
     ]
    },
    {
     "name": "stderr",
     "output_type": "stream",
     "text": [
      "  6%|▌         | 9/162 [00:06<01:44,  1.46it/s]"
     ]
    },
    {
     "name": "stdout",
     "output_type": "stream",
     "text": [
      "gemini-2.0-flash_en_base_input_json-full_output_shortest-first_shuffle.jsonl\n"
     ]
    },
    {
     "name": "stderr",
     "output_type": "stream",
     "text": [
      "  6%|▌         | 10/162 [00:07<01:54,  1.32it/s]"
     ]
    },
    {
     "name": "stdout",
     "output_type": "stream",
     "text": [
      "gemini-2.0-flash_en_base_input_xml-full_output_default_shuffle.jsonl\n"
     ]
    },
    {
     "name": "stderr",
     "output_type": "stream",
     "text": [
      "  8%|▊         | 13/162 [00:07<01:13,  2.03it/s]"
     ]
    },
    {
     "name": "stdout",
     "output_type": "stream",
     "text": [
      "gemini-2.0-flash_en_base_input_xml-full_output_reverse_shuffle.jsonl\n"
     ]
    },
    {
     "name": "stderr",
     "output_type": "stream",
     "text": [
      "  9%|▊         | 14/162 [00:08<01:23,  1.78it/s]"
     ]
    },
    {
     "name": "stdout",
     "output_type": "stream",
     "text": [
      "gemini-2.0-flash_en_base_input_xml-full_output_longest-first_shuffle.jsonl\n"
     ]
    },
    {
     "name": "stderr",
     "output_type": "stream",
     "text": [
      "  9%|▉         | 15/162 [00:09<01:30,  1.62it/s]"
     ]
    },
    {
     "name": "stdout",
     "output_type": "stream",
     "text": [
      "gemini-2.0-flash_en_base_input_xml-full_output_shortest-first_shuffle.jsonl\n"
     ]
    },
    {
     "name": "stderr",
     "output_type": "stream",
     "text": [
      " 10%|▉         | 16/162 [00:10<01:36,  1.51it/s]"
     ]
    },
    {
     "name": "stdout",
     "output_type": "stream",
     "text": [
      "gemini-2.0-flash_en_json_input_base_output_default_shuffle.jsonl\n"
     ]
    },
    {
     "name": "stderr",
     "output_type": "stream",
     "text": [
      " 12%|█▏        | 19/162 [00:11<01:06,  2.16it/s]"
     ]
    },
    {
     "name": "stdout",
     "output_type": "stream",
     "text": [
      "gemini-2.0-flash_en_json_input_base_output_reverse_shuffle.jsonl\n"
     ]
    },
    {
     "name": "stderr",
     "output_type": "stream",
     "text": [
      " 12%|█▏        | 20/162 [00:11<01:15,  1.87it/s]"
     ]
    },
    {
     "name": "stdout",
     "output_type": "stream",
     "text": [
      "gemini-2.0-flash_en_json_input_base_output_longest-first_shuffle.jsonl\n"
     ]
    },
    {
     "name": "stderr",
     "output_type": "stream",
     "text": [
      " 13%|█▎        | 21/162 [00:12<01:24,  1.66it/s]"
     ]
    },
    {
     "name": "stdout",
     "output_type": "stream",
     "text": [
      "gemini-2.0-flash_en_json_input_base_output_shortest-first_shuffle.jsonl\n"
     ]
    },
    {
     "name": "stderr",
     "output_type": "stream",
     "text": [
      " 14%|█▎        | 22/162 [00:13<01:32,  1.51it/s]"
     ]
    },
    {
     "name": "stdout",
     "output_type": "stream",
     "text": [
      "gemini-2.0-flash_en_json_input_json-full_output_default_shuffle.jsonl\n"
     ]
    },
    {
     "name": "stderr",
     "output_type": "stream",
     "text": [
      " 15%|█▌        | 25/162 [00:14<01:07,  2.04it/s]"
     ]
    },
    {
     "name": "stdout",
     "output_type": "stream",
     "text": [
      "gemini-2.0-flash_en_json_input_json-full_output_reverse_shuffle.jsonl\n"
     ]
    },
    {
     "name": "stderr",
     "output_type": "stream",
     "text": [
      " 16%|█▌        | 26/162 [00:15<01:19,  1.71it/s]"
     ]
    },
    {
     "name": "stdout",
     "output_type": "stream",
     "text": [
      "gemini-2.0-flash_en_json_input_json-full_output_longest-first_shuffle.jsonl\n"
     ]
    },
    {
     "name": "stderr",
     "output_type": "stream",
     "text": [
      " 17%|█▋        | 27/162 [00:16<01:33,  1.45it/s]"
     ]
    },
    {
     "name": "stdout",
     "output_type": "stream",
     "text": [
      "gemini-2.0-flash_en_json_input_json-full_output_shortest-first_shuffle.jsonl\n"
     ]
    },
    {
     "name": "stderr",
     "output_type": "stream",
     "text": [
      " 17%|█▋        | 28/162 [00:17<01:42,  1.31it/s]"
     ]
    },
    {
     "name": "stdout",
     "output_type": "stream",
     "text": [
      "gemini-2.0-flash_en_json_input_xml-full_output_default_shuffle.jsonl\n"
     ]
    },
    {
     "name": "stderr",
     "output_type": "stream",
     "text": [
      " 19%|█▉        | 31/162 [00:18<01:07,  1.94it/s]"
     ]
    },
    {
     "name": "stdout",
     "output_type": "stream",
     "text": [
      "gemini-2.0-flash_en_json_input_xml-full_output_reverse_shuffle.jsonl\n"
     ]
    },
    {
     "name": "stderr",
     "output_type": "stream",
     "text": [
      " 20%|█▉        | 32/162 [00:19<01:14,  1.74it/s]"
     ]
    },
    {
     "name": "stdout",
     "output_type": "stream",
     "text": [
      "gemini-2.0-flash_en_json_input_xml-full_output_longest-first_shuffle.jsonl\n"
     ]
    },
    {
     "name": "stderr",
     "output_type": "stream",
     "text": [
      " 20%|██        | 33/162 [00:20<01:22,  1.57it/s]"
     ]
    },
    {
     "name": "stdout",
     "output_type": "stream",
     "text": [
      "gemini-2.0-flash_en_json_input_xml-full_output_shortest-first_shuffle.jsonl\n"
     ]
    },
    {
     "name": "stderr",
     "output_type": "stream",
     "text": [
      " 21%|██        | 34/162 [00:20<01:28,  1.44it/s]"
     ]
    },
    {
     "name": "stdout",
     "output_type": "stream",
     "text": [
      "gemini-2.0-flash_en_xml_input_base_output_default_shuffle.jsonl\n"
     ]
    },
    {
     "name": "stderr",
     "output_type": "stream",
     "text": [
      " 23%|██▎       | 37/162 [00:21<01:01,  2.03it/s]"
     ]
    },
    {
     "name": "stdout",
     "output_type": "stream",
     "text": [
      "gemini-2.0-flash_en_xml_input_base_output_reverse_shuffle.jsonl\n"
     ]
    },
    {
     "name": "stderr",
     "output_type": "stream",
     "text": [
      " 23%|██▎       | 38/162 [00:22<01:10,  1.76it/s]"
     ]
    },
    {
     "name": "stdout",
     "output_type": "stream",
     "text": [
      "gemini-2.0-flash_en_xml_input_base_output_longest-first_shuffle.jsonl\n"
     ]
    },
    {
     "name": "stderr",
     "output_type": "stream",
     "text": [
      " 24%|██▍       | 39/162 [00:23<01:20,  1.52it/s]"
     ]
    },
    {
     "name": "stdout",
     "output_type": "stream",
     "text": [
      "gemini-2.0-flash_en_xml_input_base_output_shortest-first_shuffle.jsonl\n"
     ]
    },
    {
     "name": "stderr",
     "output_type": "stream",
     "text": [
      " 25%|██▍       | 40/162 [00:24<01:28,  1.39it/s]"
     ]
    },
    {
     "name": "stdout",
     "output_type": "stream",
     "text": [
      "gemini-2.0-flash_en_xml_input_json-full_output_default_shuffle.jsonl\n"
     ]
    },
    {
     "name": "stderr",
     "output_type": "stream",
     "text": [
      " 27%|██▋       | 43/162 [00:25<00:59,  1.99it/s]"
     ]
    },
    {
     "name": "stdout",
     "output_type": "stream",
     "text": [
      "gemini-2.0-flash_en_xml_input_json-full_output_reverse_shuffle.jsonl\n"
     ]
    },
    {
     "name": "stderr",
     "output_type": "stream",
     "text": [
      " 27%|██▋       | 44/162 [00:26<01:07,  1.75it/s]"
     ]
    },
    {
     "name": "stdout",
     "output_type": "stream",
     "text": [
      "gemini-2.0-flash_en_xml_input_json-full_output_longest-first_shuffle.jsonl\n"
     ]
    },
    {
     "name": "stderr",
     "output_type": "stream",
     "text": [
      " 28%|██▊       | 45/162 [00:27<01:15,  1.56it/s]"
     ]
    },
    {
     "name": "stdout",
     "output_type": "stream",
     "text": [
      "gemini-2.0-flash_en_xml_input_json-full_output_shortest-first_shuffle.jsonl\n"
     ]
    },
    {
     "name": "stderr",
     "output_type": "stream",
     "text": [
      " 28%|██▊       | 46/162 [00:28<01:21,  1.42it/s]"
     ]
    },
    {
     "name": "stdout",
     "output_type": "stream",
     "text": [
      "gemini-2.0-flash_en_xml_input_xml-full_output_default_shuffle.jsonl\n"
     ]
    },
    {
     "name": "stderr",
     "output_type": "stream",
     "text": [
      " 30%|███       | 49/162 [00:29<00:55,  2.03it/s]"
     ]
    },
    {
     "name": "stdout",
     "output_type": "stream",
     "text": [
      "gemini-2.0-flash_en_xml_input_xml-full_output_reverse_shuffle.jsonl\n"
     ]
    },
    {
     "name": "stderr",
     "output_type": "stream",
     "text": [
      " 31%|███       | 50/162 [00:29<01:03,  1.77it/s]"
     ]
    },
    {
     "name": "stdout",
     "output_type": "stream",
     "text": [
      "gemini-2.0-flash_en_xml_input_xml-full_output_longest-first_shuffle.jsonl\n"
     ]
    },
    {
     "name": "stderr",
     "output_type": "stream",
     "text": [
      " 31%|███▏      | 51/162 [00:30<01:10,  1.57it/s]"
     ]
    },
    {
     "name": "stdout",
     "output_type": "stream",
     "text": [
      "gemini-2.0-flash_en_xml_input_xml-full_output_shortest-first_shuffle.jsonl\n"
     ]
    },
    {
     "name": "stderr",
     "output_type": "stream",
     "text": [
      " 32%|███▏      | 52/162 [00:31<01:17,  1.43it/s]"
     ]
    },
    {
     "name": "stdout",
     "output_type": "stream",
     "text": [
      "mistral-small-2503_en_base_input_base_output_default_shuffle.jsonl\n"
     ]
    },
    {
     "name": "stderr",
     "output_type": "stream",
     "text": [
      " 34%|███▍      | 55/162 [00:32<00:52,  2.05it/s]"
     ]
    },
    {
     "name": "stdout",
     "output_type": "stream",
     "text": [
      "mistral-small-2503_en_base_input_base_output_reverse_shuffle.jsonl\n"
     ]
    },
    {
     "name": "stderr",
     "output_type": "stream",
     "text": [
      " 35%|███▍      | 56/162 [00:33<00:58,  1.80it/s]"
     ]
    },
    {
     "name": "stdout",
     "output_type": "stream",
     "text": [
      "mistral-small-2503_en_base_input_base_output_longest-first_shuffle.jsonl\n"
     ]
    },
    {
     "name": "stderr",
     "output_type": "stream",
     "text": [
      " 35%|███▌      | 57/162 [00:34<01:07,  1.56it/s]"
     ]
    },
    {
     "name": "stdout",
     "output_type": "stream",
     "text": [
      "mistral-small-2503_en_base_input_base_output_shortest-first_shuffle.jsonl\n"
     ]
    },
    {
     "name": "stderr",
     "output_type": "stream",
     "text": [
      " 36%|███▌      | 58/162 [00:35<01:12,  1.44it/s]"
     ]
    },
    {
     "name": "stdout",
     "output_type": "stream",
     "text": [
      "mistral-small-2503_en_base_input_json-full_output_default_shuffle.jsonl\n"
     ]
    },
    {
     "name": "stderr",
     "output_type": "stream",
     "text": [
      " 38%|███▊      | 61/162 [00:36<00:50,  2.00it/s]"
     ]
    },
    {
     "name": "stdout",
     "output_type": "stream",
     "text": [
      "mistral-small-2503_en_base_input_json-full_output_reverse_shuffle.jsonl\n"
     ]
    },
    {
     "name": "stderr",
     "output_type": "stream",
     "text": [
      " 38%|███▊      | 62/162 [00:37<00:58,  1.71it/s]"
     ]
    },
    {
     "name": "stdout",
     "output_type": "stream",
     "text": [
      "mistral-small-2503_en_base_input_json-full_output_longest-first_shuffle.jsonl\n"
     ]
    },
    {
     "name": "stderr",
     "output_type": "stream",
     "text": [
      " 39%|███▉      | 63/162 [00:38<01:06,  1.50it/s]"
     ]
    },
    {
     "name": "stdout",
     "output_type": "stream",
     "text": [
      "mistral-small-2503_en_base_input_json-full_output_shortest-first_shuffle.jsonl\n"
     ]
    },
    {
     "name": "stderr",
     "output_type": "stream",
     "text": [
      " 40%|███▉      | 64/162 [00:38<01:12,  1.36it/s]"
     ]
    },
    {
     "name": "stdout",
     "output_type": "stream",
     "text": [
      "mistral-small-2503_en_base_input_xml-full_output_default_shuffle.jsonl\n"
     ]
    },
    {
     "name": "stderr",
     "output_type": "stream",
     "text": [
      " 41%|████▏     | 67/162 [00:39<00:47,  2.00it/s]"
     ]
    },
    {
     "name": "stdout",
     "output_type": "stream",
     "text": [
      "mistral-small-2503_en_base_input_xml-full_output_reverse_shuffle.jsonl\n"
     ]
    },
    {
     "name": "stderr",
     "output_type": "stream",
     "text": [
      " 42%|████▏     | 68/162 [00:40<00:52,  1.79it/s]"
     ]
    },
    {
     "name": "stdout",
     "output_type": "stream",
     "text": [
      "mistral-small-2503_en_base_input_xml-full_output_longest-first_shuffle.jsonl\n"
     ]
    },
    {
     "name": "stderr",
     "output_type": "stream",
     "text": [
      " 43%|████▎     | 69/162 [00:41<00:57,  1.60it/s]"
     ]
    },
    {
     "name": "stdout",
     "output_type": "stream",
     "text": [
      "mistral-small-2503_en_base_input_xml-full_output_shortest-first_shuffle.jsonl\n"
     ]
    },
    {
     "name": "stderr",
     "output_type": "stream",
     "text": [
      " 43%|████▎     | 70/162 [00:42<01:02,  1.48it/s]"
     ]
    },
    {
     "name": "stdout",
     "output_type": "stream",
     "text": [
      "mistral-small-2503_en_json_input_base_output_default_shuffle.jsonl\n"
     ]
    },
    {
     "name": "stderr",
     "output_type": "stream",
     "text": [
      " 45%|████▌     | 73/162 [00:43<00:42,  2.10it/s]"
     ]
    },
    {
     "name": "stdout",
     "output_type": "stream",
     "text": [
      "mistral-small-2503_en_json_input_base_output_reverse_shuffle.jsonl\n"
     ]
    },
    {
     "name": "stderr",
     "output_type": "stream",
     "text": [
      " 46%|████▌     | 74/162 [00:44<00:49,  1.77it/s]"
     ]
    },
    {
     "name": "stdout",
     "output_type": "stream",
     "text": [
      "mistral-small-2503_en_json_input_base_output_longest-first_shuffle.jsonl\n"
     ]
    },
    {
     "name": "stderr",
     "output_type": "stream",
     "text": [
      " 46%|████▋     | 75/162 [00:44<00:55,  1.58it/s]"
     ]
    },
    {
     "name": "stdout",
     "output_type": "stream",
     "text": [
      "mistral-small-2503_en_json_input_base_output_shortest-first_shuffle.jsonl\n"
     ]
    },
    {
     "name": "stderr",
     "output_type": "stream",
     "text": [
      " 47%|████▋     | 76/162 [00:45<00:59,  1.44it/s]"
     ]
    },
    {
     "name": "stdout",
     "output_type": "stream",
     "text": [
      "mistral-small-2503_en_json_input_json-full_output_default_shuffle.jsonl\n"
     ]
    },
    {
     "name": "stderr",
     "output_type": "stream",
     "text": [
      " 49%|████▉     | 79/162 [00:46<00:42,  1.96it/s]"
     ]
    },
    {
     "name": "stdout",
     "output_type": "stream",
     "text": [
      "mistral-small-2503_en_json_input_json-full_output_reverse_shuffle.jsonl\n"
     ]
    },
    {
     "name": "stderr",
     "output_type": "stream",
     "text": [
      " 49%|████▉     | 80/162 [00:47<00:49,  1.66it/s]"
     ]
    },
    {
     "name": "stdout",
     "output_type": "stream",
     "text": [
      "mistral-small-2503_en_json_input_json-full_output_longest-first_shuffle.jsonl\n"
     ]
    },
    {
     "name": "stderr",
     "output_type": "stream",
     "text": [
      " 50%|█████     | 81/162 [00:48<00:56,  1.44it/s]"
     ]
    },
    {
     "name": "stdout",
     "output_type": "stream",
     "text": [
      "mistral-small-2503_en_json_input_json-full_output_shortest-first_shuffle.jsonl\n"
     ]
    },
    {
     "name": "stderr",
     "output_type": "stream",
     "text": [
      " 51%|█████     | 82/162 [00:49<01:01,  1.29it/s]"
     ]
    },
    {
     "name": "stdout",
     "output_type": "stream",
     "text": [
      "mistral-small-2503_en_json_input_xml-full_output_default_shuffle.jsonl\n"
     ]
    },
    {
     "name": "stderr",
     "output_type": "stream",
     "text": [
      " 52%|█████▏    | 85/162 [00:50<00:40,  1.89it/s]"
     ]
    },
    {
     "name": "stdout",
     "output_type": "stream",
     "text": [
      "mistral-small-2503_en_json_input_xml-full_output_reverse_shuffle.jsonl\n"
     ]
    },
    {
     "name": "stderr",
     "output_type": "stream",
     "text": [
      " 53%|█████▎    | 86/162 [00:51<00:45,  1.68it/s]"
     ]
    },
    {
     "name": "stdout",
     "output_type": "stream",
     "text": [
      "mistral-small-2503_en_json_input_xml-full_output_longest-first_shuffle.jsonl\n"
     ]
    },
    {
     "name": "stderr",
     "output_type": "stream",
     "text": [
      " 54%|█████▎    | 87/162 [00:52<00:49,  1.51it/s]"
     ]
    },
    {
     "name": "stdout",
     "output_type": "stream",
     "text": [
      "mistral-small-2503_en_json_input_xml-full_output_shortest-first_shuffle.jsonl\n"
     ]
    },
    {
     "name": "stderr",
     "output_type": "stream",
     "text": [
      " 54%|█████▍    | 88/162 [00:53<00:54,  1.35it/s]"
     ]
    },
    {
     "name": "stdout",
     "output_type": "stream",
     "text": [
      "mistral-small-2503_en_xml_input_base_output_default_shuffle.jsonl\n"
     ]
    },
    {
     "name": "stderr",
     "output_type": "stream",
     "text": [
      " 56%|█████▌    | 91/162 [00:54<00:37,  1.91it/s]"
     ]
    },
    {
     "name": "stdout",
     "output_type": "stream",
     "text": [
      "mistral-small-2503_en_xml_input_base_output_reverse_shuffle.jsonl\n"
     ]
    },
    {
     "name": "stderr",
     "output_type": "stream",
     "text": [
      " 57%|█████▋    | 92/162 [00:55<00:42,  1.66it/s]"
     ]
    },
    {
     "name": "stdout",
     "output_type": "stream",
     "text": [
      "mistral-small-2503_en_xml_input_base_output_longest-first_shuffle.jsonl\n"
     ]
    },
    {
     "name": "stderr",
     "output_type": "stream",
     "text": [
      " 57%|█████▋    | 93/162 [00:56<00:46,  1.47it/s]"
     ]
    },
    {
     "name": "stdout",
     "output_type": "stream",
     "text": [
      "mistral-small-2503_en_xml_input_base_output_shortest-first_shuffle.jsonl\n"
     ]
    },
    {
     "name": "stderr",
     "output_type": "stream",
     "text": [
      " 58%|█████▊    | 94/162 [00:57<00:50,  1.34it/s]"
     ]
    },
    {
     "name": "stdout",
     "output_type": "stream",
     "text": [
      "mistral-small-2503_en_xml_input_json-full_output_default_shuffle.jsonl\n"
     ]
    },
    {
     "name": "stderr",
     "output_type": "stream",
     "text": [
      " 60%|█████▉    | 97/162 [00:58<00:33,  1.92it/s]"
     ]
    },
    {
     "name": "stdout",
     "output_type": "stream",
     "text": [
      "mistral-small-2503_en_xml_input_json-full_output_reverse_shuffle.jsonl\n"
     ]
    },
    {
     "name": "stderr",
     "output_type": "stream",
     "text": [
      " 60%|██████    | 98/162 [00:59<00:37,  1.69it/s]"
     ]
    },
    {
     "name": "stdout",
     "output_type": "stream",
     "text": [
      "mistral-small-2503_en_xml_input_json-full_output_longest-first_shuffle.jsonl\n"
     ]
    },
    {
     "name": "stderr",
     "output_type": "stream",
     "text": [
      " 61%|██████    | 99/162 [00:59<00:42,  1.50it/s]"
     ]
    },
    {
     "name": "stdout",
     "output_type": "stream",
     "text": [
      "mistral-small-2503_en_xml_input_json-full_output_shortest-first_shuffle.jsonl\n"
     ]
    },
    {
     "name": "stderr",
     "output_type": "stream",
     "text": [
      " 62%|██████▏   | 100/162 [01:00<00:45,  1.37it/s]"
     ]
    },
    {
     "name": "stdout",
     "output_type": "stream",
     "text": [
      "mistral-small-2503_en_xml_input_xml-full_output_default_shuffle.jsonl\n"
     ]
    },
    {
     "name": "stderr",
     "output_type": "stream",
     "text": [
      " 64%|██████▎   | 103/162 [01:01<00:30,  1.95it/s]"
     ]
    },
    {
     "name": "stdout",
     "output_type": "stream",
     "text": [
      "mistral-small-2503_en_xml_input_xml-full_output_reverse_shuffle.jsonl\n"
     ]
    },
    {
     "name": "stderr",
     "output_type": "stream",
     "text": [
      " 64%|██████▍   | 104/162 [01:02<00:34,  1.71it/s]"
     ]
    },
    {
     "name": "stdout",
     "output_type": "stream",
     "text": [
      "mistral-small-2503_en_xml_input_xml-full_output_longest-first_shuffle.jsonl\n"
     ]
    },
    {
     "name": "stderr",
     "output_type": "stream",
     "text": [
      " 65%|██████▍   | 105/162 [01:03<00:38,  1.48it/s]"
     ]
    },
    {
     "name": "stdout",
     "output_type": "stream",
     "text": [
      "mistral-small-2503_en_xml_input_xml-full_output_shortest-first_shuffle.jsonl\n"
     ]
    },
    {
     "name": "stderr",
     "output_type": "stream",
     "text": [
      " 65%|██████▌   | 106/162 [01:04<00:42,  1.32it/s]"
     ]
    },
    {
     "name": "stdout",
     "output_type": "stream",
     "text": [
      "llama-v3p1-8b-instruct_en_base_input_base_output_default_shuffle.jsonl\n"
     ]
    },
    {
     "name": "stderr",
     "output_type": "stream",
     "text": [
      " 67%|██████▋   | 109/162 [01:05<00:27,  1.91it/s]"
     ]
    },
    {
     "name": "stdout",
     "output_type": "stream",
     "text": [
      "llama-v3p1-8b-instruct_en_base_input_base_output_reverse_shuffle.jsonl\n"
     ]
    },
    {
     "name": "stderr",
     "output_type": "stream",
     "text": [
      " 68%|██████▊   | 110/162 [01:06<00:30,  1.69it/s]"
     ]
    },
    {
     "name": "stdout",
     "output_type": "stream",
     "text": [
      "llama-v3p1-8b-instruct_en_base_input_base_output_longest-first_shuffle.jsonl\n"
     ]
    },
    {
     "name": "stderr",
     "output_type": "stream",
     "text": [
      " 69%|██████▊   | 111/162 [01:07<00:33,  1.54it/s]"
     ]
    },
    {
     "name": "stdout",
     "output_type": "stream",
     "text": [
      "llama-v3p1-8b-instruct_en_base_input_base_output_shortest-first_shuffle.jsonl\n"
     ]
    },
    {
     "name": "stderr",
     "output_type": "stream",
     "text": [
      " 69%|██████▉   | 112/162 [01:08<00:35,  1.42it/s]"
     ]
    },
    {
     "name": "stdout",
     "output_type": "stream",
     "text": [
      "llama-v3p1-8b-instruct_en_base_input_json-full_output_default_shuffle.jsonl\n"
     ]
    },
    {
     "name": "stderr",
     "output_type": "stream",
     "text": [
      " 71%|███████   | 115/162 [01:09<00:24,  1.95it/s]"
     ]
    },
    {
     "name": "stdout",
     "output_type": "stream",
     "text": [
      "llama-v3p1-8b-instruct_en_base_input_json-full_output_reverse_shuffle.jsonl\n"
     ]
    },
    {
     "name": "stderr",
     "output_type": "stream",
     "text": [
      " 72%|███████▏  | 116/162 [01:10<00:27,  1.70it/s]"
     ]
    },
    {
     "name": "stdout",
     "output_type": "stream",
     "text": [
      "llama-v3p1-8b-instruct_en_base_input_json-full_output_longest-first_shuffle.jsonl\n"
     ]
    },
    {
     "name": "stderr",
     "output_type": "stream",
     "text": [
      " 72%|███████▏  | 117/162 [01:10<00:29,  1.53it/s]"
     ]
    },
    {
     "name": "stdout",
     "output_type": "stream",
     "text": [
      "llama-v3p1-8b-instruct_en_base_input_json-full_output_shortest-first_shuffle.jsonl\n"
     ]
    },
    {
     "name": "stderr",
     "output_type": "stream",
     "text": [
      " 73%|███████▎  | 118/162 [01:12<00:32,  1.35it/s]"
     ]
    },
    {
     "name": "stdout",
     "output_type": "stream",
     "text": [
      "llama-v3p1-8b-instruct_en_base_input_xml-full_output_default_shuffle.jsonl\n"
     ]
    },
    {
     "name": "stderr",
     "output_type": "stream",
     "text": [
      " 75%|███████▍  | 121/162 [01:12<00:21,  1.88it/s]"
     ]
    },
    {
     "name": "stdout",
     "output_type": "stream",
     "text": [
      "llama-v3p1-8b-instruct_en_base_input_xml-full_output_reverse_shuffle.jsonl\n"
     ]
    },
    {
     "name": "stderr",
     "output_type": "stream",
     "text": [
      " 75%|███████▌  | 122/162 [01:14<00:25,  1.58it/s]"
     ]
    },
    {
     "name": "stdout",
     "output_type": "stream",
     "text": [
      "llama-v3p1-8b-instruct_en_base_input_xml-full_output_longest-first_shuffle.jsonl\n"
     ]
    },
    {
     "name": "stderr",
     "output_type": "stream",
     "text": [
      " 76%|███████▌  | 123/162 [01:14<00:26,  1.46it/s]"
     ]
    },
    {
     "name": "stdout",
     "output_type": "stream",
     "text": [
      "llama-v3p1-8b-instruct_en_base_input_xml-full_output_shortest-first_shuffle.jsonl\n"
     ]
    },
    {
     "name": "stderr",
     "output_type": "stream",
     "text": [
      " 77%|███████▋  | 124/162 [01:15<00:29,  1.31it/s]"
     ]
    },
    {
     "name": "stdout",
     "output_type": "stream",
     "text": [
      "llama-v3p1-8b-instruct_en_json_input_base_output_default_shuffle.jsonl\n"
     ]
    },
    {
     "name": "stderr",
     "output_type": "stream",
     "text": [
      " 78%|███████▊  | 127/162 [01:16<00:18,  1.87it/s]"
     ]
    },
    {
     "name": "stdout",
     "output_type": "stream",
     "text": [
      "llama-v3p1-8b-instruct_en_json_input_base_output_reverse_shuffle.jsonl\n"
     ]
    },
    {
     "name": "stderr",
     "output_type": "stream",
     "text": [
      " 79%|███████▉  | 128/162 [01:17<00:20,  1.63it/s]"
     ]
    },
    {
     "name": "stdout",
     "output_type": "stream",
     "text": [
      "llama-v3p1-8b-instruct_en_json_input_base_output_longest-first_shuffle.jsonl\n"
     ]
    },
    {
     "name": "stderr",
     "output_type": "stream",
     "text": [
      " 80%|███████▉  | 129/162 [01:18<00:23,  1.42it/s]"
     ]
    },
    {
     "name": "stdout",
     "output_type": "stream",
     "text": [
      "llama-v3p1-8b-instruct_en_json_input_base_output_shortest-first_shuffle.jsonl\n"
     ]
    },
    {
     "name": "stderr",
     "output_type": "stream",
     "text": [
      " 80%|████████  | 130/162 [01:19<00:24,  1.31it/s]"
     ]
    },
    {
     "name": "stdout",
     "output_type": "stream",
     "text": [
      "llama-v3p1-8b-instruct_en_json_input_json-full_output_default_shuffle.jsonl\n"
     ]
    },
    {
     "name": "stderr",
     "output_type": "stream",
     "text": [
      " 82%|████████▏ | 133/162 [01:20<00:15,  1.81it/s]"
     ]
    },
    {
     "name": "stdout",
     "output_type": "stream",
     "text": [
      "llama-v3p1-8b-instruct_en_json_input_json-full_output_reverse_shuffle.jsonl\n"
     ]
    },
    {
     "name": "stderr",
     "output_type": "stream",
     "text": [
      " 83%|████████▎ | 134/162 [01:21<00:18,  1.55it/s]"
     ]
    },
    {
     "name": "stdout",
     "output_type": "stream",
     "text": [
      "llama-v3p1-8b-instruct_en_json_input_json-full_output_longest-first_shuffle.jsonl\n"
     ]
    },
    {
     "name": "stderr",
     "output_type": "stream",
     "text": [
      " 83%|████████▎ | 135/162 [01:22<00:19,  1.41it/s]"
     ]
    },
    {
     "name": "stdout",
     "output_type": "stream",
     "text": [
      "llama-v3p1-8b-instruct_en_json_input_json-full_output_shortest-first_shuffle.jsonl\n"
     ]
    },
    {
     "name": "stderr",
     "output_type": "stream",
     "text": [
      " 84%|████████▍ | 136/162 [01:23<00:20,  1.26it/s]"
     ]
    },
    {
     "name": "stdout",
     "output_type": "stream",
     "text": [
      "llama-v3p1-8b-instruct_en_json_input_xml-full_output_default_shuffle.jsonl\n"
     ]
    },
    {
     "name": "stderr",
     "output_type": "stream",
     "text": [
      " 86%|████████▌ | 139/162 [01:24<00:13,  1.76it/s]"
     ]
    },
    {
     "name": "stdout",
     "output_type": "stream",
     "text": [
      "llama-v3p1-8b-instruct_en_json_input_xml-full_output_reverse_shuffle.jsonl\n"
     ]
    },
    {
     "name": "stderr",
     "output_type": "stream",
     "text": [
      " 86%|████████▋ | 140/162 [01:26<00:14,  1.49it/s]"
     ]
    },
    {
     "name": "stdout",
     "output_type": "stream",
     "text": [
      "llama-v3p1-8b-instruct_en_json_input_xml-full_output_longest-first_shuffle.jsonl\n"
     ]
    },
    {
     "name": "stderr",
     "output_type": "stream",
     "text": [
      " 87%|████████▋ | 141/162 [01:26<00:15,  1.38it/s]"
     ]
    },
    {
     "name": "stdout",
     "output_type": "stream",
     "text": [
      "llama-v3p1-8b-instruct_en_json_input_xml-full_output_shortest-first_shuffle.jsonl\n"
     ]
    },
    {
     "name": "stderr",
     "output_type": "stream",
     "text": [
      " 88%|████████▊ | 142/162 [01:28<00:16,  1.23it/s]"
     ]
    },
    {
     "name": "stdout",
     "output_type": "stream",
     "text": [
      "llama-v3p1-8b-instruct_en_xml_input_base_output_default_shuffle.jsonl\n"
     ]
    },
    {
     "name": "stderr",
     "output_type": "stream",
     "text": [
      " 90%|████████▉ | 145/162 [01:28<00:09,  1.77it/s]"
     ]
    },
    {
     "name": "stdout",
     "output_type": "stream",
     "text": [
      "llama-v3p1-8b-instruct_en_xml_input_base_output_reverse_shuffle.jsonl\n"
     ]
    },
    {
     "name": "stderr",
     "output_type": "stream",
     "text": [
      " 90%|█████████ | 146/162 [01:29<00:10,  1.56it/s]"
     ]
    },
    {
     "name": "stdout",
     "output_type": "stream",
     "text": [
      "llama-v3p1-8b-instruct_en_xml_input_base_output_longest-first_shuffle.jsonl\n"
     ]
    },
    {
     "name": "stderr",
     "output_type": "stream",
     "text": [
      " 91%|█████████ | 147/162 [01:30<00:10,  1.37it/s]"
     ]
    },
    {
     "name": "stdout",
     "output_type": "stream",
     "text": [
      "llama-v3p1-8b-instruct_en_xml_input_base_output_shortest-first_shuffle.jsonl\n"
     ]
    },
    {
     "name": "stderr",
     "output_type": "stream",
     "text": [
      " 91%|█████████▏| 148/162 [01:31<00:11,  1.26it/s]"
     ]
    },
    {
     "name": "stdout",
     "output_type": "stream",
     "text": [
      "llama-v3p1-8b-instruct_en_xml_input_json-full_output_default_shuffle.jsonl\n"
     ]
    },
    {
     "name": "stderr",
     "output_type": "stream",
     "text": [
      " 93%|█████████▎| 151/162 [01:33<00:06,  1.76it/s]"
     ]
    },
    {
     "name": "stdout",
     "output_type": "stream",
     "text": [
      "llama-v3p1-8b-instruct_en_xml_input_json-full_output_reverse_shuffle.jsonl\n"
     ]
    },
    {
     "name": "stderr",
     "output_type": "stream",
     "text": [
      " 94%|█████████▍| 152/162 [01:34<00:06,  1.52it/s]"
     ]
    },
    {
     "name": "stdout",
     "output_type": "stream",
     "text": [
      "llama-v3p1-8b-instruct_en_xml_input_json-full_output_longest-first_shuffle.jsonl\n"
     ]
    },
    {
     "name": "stderr",
     "output_type": "stream",
     "text": [
      " 94%|█████████▍| 153/162 [01:35<00:06,  1.39it/s]"
     ]
    },
    {
     "name": "stdout",
     "output_type": "stream",
     "text": [
      "llama-v3p1-8b-instruct_en_xml_input_json-full_output_shortest-first_shuffle.jsonl\n"
     ]
    },
    {
     "name": "stderr",
     "output_type": "stream",
     "text": [
      " 95%|█████████▌| 154/162 [01:36<00:06,  1.24it/s]"
     ]
    },
    {
     "name": "stdout",
     "output_type": "stream",
     "text": [
      "llama-v3p1-8b-instruct_en_xml_input_xml-full_output_default_shuffle.jsonl\n"
     ]
    },
    {
     "name": "stderr",
     "output_type": "stream",
     "text": [
      " 97%|█████████▋| 157/162 [01:37<00:02,  1.74it/s]"
     ]
    },
    {
     "name": "stdout",
     "output_type": "stream",
     "text": [
      "llama-v3p1-8b-instruct_en_xml_input_xml-full_output_reverse_shuffle.jsonl\n"
     ]
    },
    {
     "name": "stderr",
     "output_type": "stream",
     "text": [
      " 98%|█████████▊| 158/162 [01:38<00:02,  1.50it/s]"
     ]
    },
    {
     "name": "stdout",
     "output_type": "stream",
     "text": [
      "llama-v3p1-8b-instruct_en_xml_input_xml-full_output_longest-first_shuffle.jsonl\n"
     ]
    },
    {
     "name": "stderr",
     "output_type": "stream",
     "text": [
      " 98%|█████████▊| 159/162 [01:39<00:02,  1.37it/s]"
     ]
    },
    {
     "name": "stdout",
     "output_type": "stream",
     "text": [
      "llama-v3p1-8b-instruct_en_xml_input_xml-full_output_shortest-first_shuffle.jsonl\n"
     ]
    },
    {
     "name": "stderr",
     "output_type": "stream",
     "text": [
      "100%|██████████| 162/162 [01:40<00:00,  1.62it/s]\n",
      "  0%|          | 0/162 [00:00<?, ?it/s]"
     ]
    },
    {
     "name": "stdout",
     "output_type": "stream",
     "text": [
      "gemini-2.0-flash_ja-jp_base_input_base_output_default_shuffle.jsonl\n"
     ]
    },
    {
     "name": "stderr",
     "output_type": "stream",
     "text": [
      "  1%|          | 1/162 [00:00<02:27,  1.09it/s]"
     ]
    },
    {
     "name": "stdout",
     "output_type": "stream",
     "text": [
      "gemini-2.0-flash_ja-jp_base_input_base_output_reverse_shuffle.jsonl\n"
     ]
    },
    {
     "name": "stderr",
     "output_type": "stream",
     "text": [
      "  1%|          | 2/162 [00:01<01:23,  1.91it/s]"
     ]
    },
    {
     "name": "stdout",
     "output_type": "stream",
     "text": [
      "gemini-2.0-flash_ja-jp_base_input_base_output_longest-first_shuffle.jsonl\n"
     ]
    },
    {
     "name": "stderr",
     "output_type": "stream",
     "text": [
      "  2%|▏         | 3/162 [00:01<01:05,  2.42it/s]"
     ]
    },
    {
     "name": "stdout",
     "output_type": "stream",
     "text": [
      "gemini-2.0-flash_ja-jp_base_input_base_output_shortest-first_shuffle.jsonl\n"
     ]
    },
    {
     "name": "stderr",
     "output_type": "stream",
     "text": [
      "  2%|▏         | 4/162 [00:01<00:56,  2.78it/s]"
     ]
    },
    {
     "name": "stdout",
     "output_type": "stream",
     "text": [
      "gemini-2.0-flash_ja-jp_base_input_base_output_most-kana-ratio_shuffle.jsonl\n"
     ]
    },
    {
     "name": "stderr",
     "output_type": "stream",
     "text": [
      "  3%|▎         | 5/162 [00:02<00:52,  3.00it/s]"
     ]
    },
    {
     "name": "stdout",
     "output_type": "stream",
     "text": [
      "gemini-2.0-flash_ja-jp_base_input_base_output_fewest-kana-ratio_shuffle.jsonl\n"
     ]
    },
    {
     "name": "stderr",
     "output_type": "stream",
     "text": [
      "  4%|▎         | 6/162 [00:02<00:55,  2.80it/s]"
     ]
    },
    {
     "name": "stdout",
     "output_type": "stream",
     "text": [
      "gemini-2.0-flash_ja-jp_base_input_json-full_output_default_shuffle.jsonl\n"
     ]
    },
    {
     "name": "stderr",
     "output_type": "stream",
     "text": [
      "  4%|▍         | 7/162 [00:02<00:55,  2.80it/s]"
     ]
    },
    {
     "name": "stdout",
     "output_type": "stream",
     "text": [
      "gemini-2.0-flash_ja-jp_base_input_json-full_output_reverse_shuffle.jsonl\n"
     ]
    },
    {
     "name": "stderr",
     "output_type": "stream",
     "text": [
      "  5%|▍         | 8/162 [00:03<00:55,  2.78it/s]"
     ]
    },
    {
     "name": "stdout",
     "output_type": "stream",
     "text": [
      "gemini-2.0-flash_ja-jp_base_input_json-full_output_longest-first_shuffle.jsonl\n"
     ]
    },
    {
     "name": "stderr",
     "output_type": "stream",
     "text": [
      "  6%|▌         | 9/162 [00:03<00:56,  2.70it/s]"
     ]
    },
    {
     "name": "stdout",
     "output_type": "stream",
     "text": [
      "gemini-2.0-flash_ja-jp_base_input_json-full_output_shortest-first_shuffle.jsonl\n"
     ]
    },
    {
     "name": "stderr",
     "output_type": "stream",
     "text": [
      "  6%|▌         | 10/162 [00:03<00:57,  2.66it/s]"
     ]
    },
    {
     "name": "stdout",
     "output_type": "stream",
     "text": [
      "gemini-2.0-flash_ja-jp_base_input_json-full_output_most-kana-ratio_shuffle.jsonl\n"
     ]
    },
    {
     "name": "stderr",
     "output_type": "stream",
     "text": [
      "  7%|▋         | 11/162 [00:04<00:58,  2.60it/s]"
     ]
    },
    {
     "name": "stdout",
     "output_type": "stream",
     "text": [
      "gemini-2.0-flash_ja-jp_base_input_json-full_output_fewest-kana-ratio_shuffle.jsonl\n"
     ]
    },
    {
     "name": "stderr",
     "output_type": "stream",
     "text": [
      "  7%|▋         | 12/162 [00:04<00:58,  2.55it/s]"
     ]
    },
    {
     "name": "stdout",
     "output_type": "stream",
     "text": [
      "gemini-2.0-flash_ja-jp_base_input_xml-full_output_default_shuffle.jsonl\n"
     ]
    },
    {
     "name": "stderr",
     "output_type": "stream",
     "text": [
      "  8%|▊         | 13/162 [00:04<00:49,  2.98it/s]"
     ]
    },
    {
     "name": "stdout",
     "output_type": "stream",
     "text": [
      "gemini-2.0-flash_ja-jp_base_input_xml-full_output_reverse_shuffle.jsonl\n"
     ]
    },
    {
     "name": "stderr",
     "output_type": "stream",
     "text": [
      "  9%|▊         | 14/162 [00:05<00:44,  3.36it/s]"
     ]
    },
    {
     "name": "stdout",
     "output_type": "stream",
     "text": [
      "gemini-2.0-flash_ja-jp_base_input_xml-full_output_longest-first_shuffle.jsonl\n"
     ]
    },
    {
     "name": "stderr",
     "output_type": "stream",
     "text": [
      "  9%|▉         | 15/162 [00:05<00:40,  3.59it/s]"
     ]
    },
    {
     "name": "stdout",
     "output_type": "stream",
     "text": [
      "gemini-2.0-flash_ja-jp_base_input_xml-full_output_shortest-first_shuffle.jsonl\n"
     ]
    },
    {
     "name": "stderr",
     "output_type": "stream",
     "text": [
      " 10%|▉         | 16/162 [00:05<00:39,  3.68it/s]"
     ]
    },
    {
     "name": "stdout",
     "output_type": "stream",
     "text": [
      "gemini-2.0-flash_ja-jp_base_input_xml-full_output_most-kana-ratio_shuffle.jsonl\n"
     ]
    },
    {
     "name": "stderr",
     "output_type": "stream",
     "text": [
      " 10%|█         | 17/162 [00:05<00:38,  3.77it/s]"
     ]
    },
    {
     "name": "stdout",
     "output_type": "stream",
     "text": [
      "gemini-2.0-flash_ja-jp_base_input_xml-full_output_fewest-kana-ratio_shuffle.jsonl\n"
     ]
    },
    {
     "name": "stderr",
     "output_type": "stream",
     "text": [
      " 11%|█         | 18/162 [00:06<00:37,  3.83it/s]"
     ]
    },
    {
     "name": "stdout",
     "output_type": "stream",
     "text": [
      "gemini-2.0-flash_ja-jp_json_input_base_output_default_shuffle.jsonl\n"
     ]
    },
    {
     "name": "stderr",
     "output_type": "stream",
     "text": [
      " 12%|█▏        | 19/162 [00:06<00:36,  3.95it/s]"
     ]
    },
    {
     "name": "stdout",
     "output_type": "stream",
     "text": [
      "gemini-2.0-flash_ja-jp_json_input_base_output_reverse_shuffle.jsonl\n"
     ]
    },
    {
     "name": "stderr",
     "output_type": "stream",
     "text": [
      " 12%|█▏        | 20/162 [00:06<00:35,  3.99it/s]"
     ]
    },
    {
     "name": "stdout",
     "output_type": "stream",
     "text": [
      "gemini-2.0-flash_ja-jp_json_input_base_output_longest-first_shuffle.jsonl\n"
     ]
    },
    {
     "name": "stderr",
     "output_type": "stream",
     "text": [
      " 13%|█▎        | 21/162 [00:06<00:36,  3.87it/s]"
     ]
    },
    {
     "name": "stdout",
     "output_type": "stream",
     "text": [
      "gemini-2.0-flash_ja-jp_json_input_base_output_shortest-first_shuffle.jsonl\n"
     ]
    },
    {
     "name": "stderr",
     "output_type": "stream",
     "text": [
      " 14%|█▎        | 22/162 [00:07<00:36,  3.79it/s]"
     ]
    },
    {
     "name": "stdout",
     "output_type": "stream",
     "text": [
      "gemini-2.0-flash_ja-jp_json_input_base_output_most-kana-ratio_shuffle.jsonl\n"
     ]
    },
    {
     "name": "stderr",
     "output_type": "stream",
     "text": [
      " 14%|█▍        | 23/162 [00:07<00:37,  3.69it/s]"
     ]
    },
    {
     "name": "stdout",
     "output_type": "stream",
     "text": [
      "gemini-2.0-flash_ja-jp_json_input_base_output_fewest-kana-ratio_shuffle.jsonl\n"
     ]
    },
    {
     "name": "stderr",
     "output_type": "stream",
     "text": [
      " 15%|█▍        | 24/162 [00:07<00:38,  3.61it/s]"
     ]
    },
    {
     "name": "stdout",
     "output_type": "stream",
     "text": [
      "gemini-2.0-flash_ja-jp_json_input_json-full_output_default_shuffle.jsonl\n"
     ]
    },
    {
     "name": "stderr",
     "output_type": "stream",
     "text": [
      " 15%|█▌        | 25/162 [00:08<00:42,  3.19it/s]"
     ]
    },
    {
     "name": "stdout",
     "output_type": "stream",
     "text": [
      "gemini-2.0-flash_ja-jp_json_input_json-full_output_reverse_shuffle.jsonl\n"
     ]
    },
    {
     "name": "stderr",
     "output_type": "stream",
     "text": [
      " 16%|█▌        | 26/162 [00:08<00:46,  2.95it/s]"
     ]
    },
    {
     "name": "stdout",
     "output_type": "stream",
     "text": [
      "gemini-2.0-flash_ja-jp_json_input_json-full_output_longest-first_shuffle.jsonl\n"
     ]
    },
    {
     "name": "stderr",
     "output_type": "stream",
     "text": [
      " 17%|█▋        | 27/162 [00:08<00:49,  2.73it/s]"
     ]
    },
    {
     "name": "stdout",
     "output_type": "stream",
     "text": [
      "gemini-2.0-flash_ja-jp_json_input_json-full_output_shortest-first_shuffle.jsonl\n"
     ]
    },
    {
     "name": "stderr",
     "output_type": "stream",
     "text": [
      " 17%|█▋        | 28/162 [00:09<00:51,  2.58it/s]"
     ]
    },
    {
     "name": "stdout",
     "output_type": "stream",
     "text": [
      "gemini-2.0-flash_ja-jp_json_input_json-full_output_most-kana-ratio_shuffle.jsonl\n"
     ]
    },
    {
     "name": "stderr",
     "output_type": "stream",
     "text": [
      " 18%|█▊        | 29/162 [00:09<00:54,  2.45it/s]"
     ]
    },
    {
     "name": "stdout",
     "output_type": "stream",
     "text": [
      "gemini-2.0-flash_ja-jp_json_input_json-full_output_fewest-kana-ratio_shuffle.jsonl\n"
     ]
    },
    {
     "name": "stderr",
     "output_type": "stream",
     "text": [
      " 19%|█▊        | 30/162 [00:10<00:55,  2.38it/s]"
     ]
    },
    {
     "name": "stdout",
     "output_type": "stream",
     "text": [
      "gemini-2.0-flash_ja-jp_json_input_xml-full_output_default_shuffle.jsonl\n"
     ]
    },
    {
     "name": "stderr",
     "output_type": "stream",
     "text": [
      " 19%|█▉        | 31/162 [00:10<00:53,  2.43it/s]"
     ]
    },
    {
     "name": "stdout",
     "output_type": "stream",
     "text": [
      "gemini-2.0-flash_ja-jp_json_input_xml-full_output_reverse_shuffle.jsonl\n"
     ]
    },
    {
     "name": "stderr",
     "output_type": "stream",
     "text": [
      " 20%|█▉        | 32/162 [00:10<00:47,  2.75it/s]"
     ]
    },
    {
     "name": "stdout",
     "output_type": "stream",
     "text": [
      "gemini-2.0-flash_ja-jp_json_input_xml-full_output_longest-first_shuffle.jsonl\n"
     ]
    },
    {
     "name": "stderr",
     "output_type": "stream",
     "text": [
      " 20%|██        | 33/162 [00:11<00:43,  2.95it/s]"
     ]
    },
    {
     "name": "stdout",
     "output_type": "stream",
     "text": [
      "gemini-2.0-flash_ja-jp_json_input_xml-full_output_shortest-first_shuffle.jsonl\n"
     ]
    },
    {
     "name": "stderr",
     "output_type": "stream",
     "text": [
      " 21%|██        | 34/162 [00:11<00:41,  3.12it/s]"
     ]
    },
    {
     "name": "stdout",
     "output_type": "stream",
     "text": [
      "gemini-2.0-flash_ja-jp_json_input_xml-full_output_most-kana-ratio_shuffle.jsonl\n"
     ]
    },
    {
     "name": "stderr",
     "output_type": "stream",
     "text": [
      " 22%|██▏       | 35/162 [00:11<00:39,  3.20it/s]"
     ]
    },
    {
     "name": "stdout",
     "output_type": "stream",
     "text": [
      "gemini-2.0-flash_ja-jp_json_input_xml-full_output_fewest-kana-ratio_shuffle.jsonl\n"
     ]
    },
    {
     "name": "stderr",
     "output_type": "stream",
     "text": [
      " 22%|██▏       | 36/162 [00:12<00:38,  3.26it/s]"
     ]
    },
    {
     "name": "stdout",
     "output_type": "stream",
     "text": [
      "gemini-2.0-flash_ja-jp_xml_input_base_output_default_shuffle.jsonl\n"
     ]
    },
    {
     "name": "stderr",
     "output_type": "stream",
     "text": [
      " 23%|██▎       | 37/162 [00:12<00:38,  3.29it/s]"
     ]
    },
    {
     "name": "stdout",
     "output_type": "stream",
     "text": [
      "gemini-2.0-flash_ja-jp_xml_input_base_output_reverse_shuffle.jsonl\n"
     ]
    },
    {
     "name": "stderr",
     "output_type": "stream",
     "text": [
      " 23%|██▎       | 38/162 [00:12<00:37,  3.26it/s]"
     ]
    },
    {
     "name": "stdout",
     "output_type": "stream",
     "text": [
      "gemini-2.0-flash_ja-jp_xml_input_base_output_longest-first_shuffle.jsonl\n"
     ]
    },
    {
     "name": "stderr",
     "output_type": "stream",
     "text": [
      " 24%|██▍       | 39/162 [00:13<00:38,  3.17it/s]"
     ]
    },
    {
     "name": "stdout",
     "output_type": "stream",
     "text": [
      "gemini-2.0-flash_ja-jp_xml_input_base_output_shortest-first_shuffle.jsonl\n"
     ]
    },
    {
     "name": "stderr",
     "output_type": "stream",
     "text": [
      " 25%|██▍       | 40/162 [00:13<00:39,  3.09it/s]"
     ]
    },
    {
     "name": "stdout",
     "output_type": "stream",
     "text": [
      "gemini-2.0-flash_ja-jp_xml_input_base_output_most-kana-ratio_shuffle.jsonl\n"
     ]
    },
    {
     "name": "stderr",
     "output_type": "stream",
     "text": [
      " 25%|██▌       | 41/162 [00:13<00:40,  3.01it/s]"
     ]
    },
    {
     "name": "stdout",
     "output_type": "stream",
     "text": [
      "gemini-2.0-flash_ja-jp_xml_input_base_output_fewest-kana-ratio_shuffle.jsonl\n"
     ]
    },
    {
     "name": "stderr",
     "output_type": "stream",
     "text": [
      " 26%|██▌       | 42/162 [00:14<00:40,  2.94it/s]"
     ]
    },
    {
     "name": "stdout",
     "output_type": "stream",
     "text": [
      "gemini-2.0-flash_ja-jp_xml_input_json-full_output_default_shuffle.jsonl\n"
     ]
    },
    {
     "name": "stderr",
     "output_type": "stream",
     "text": [
      " 27%|██▋       | 43/162 [00:14<00:37,  3.14it/s]"
     ]
    },
    {
     "name": "stdout",
     "output_type": "stream",
     "text": [
      "gemini-2.0-flash_ja-jp_xml_input_json-full_output_reverse_shuffle.jsonl\n"
     ]
    },
    {
     "name": "stderr",
     "output_type": "stream",
     "text": [
      " 27%|██▋       | 44/162 [00:14<00:35,  3.28it/s]"
     ]
    },
    {
     "name": "stdout",
     "output_type": "stream",
     "text": [
      "gemini-2.0-flash_ja-jp_xml_input_json-full_output_longest-first_shuffle.jsonl\n"
     ]
    },
    {
     "name": "stderr",
     "output_type": "stream",
     "text": [
      " 28%|██▊       | 45/162 [00:14<00:35,  3.28it/s]"
     ]
    },
    {
     "name": "stdout",
     "output_type": "stream",
     "text": [
      "gemini-2.0-flash_ja-jp_xml_input_json-full_output_shortest-first_shuffle.jsonl\n"
     ]
    },
    {
     "name": "stderr",
     "output_type": "stream",
     "text": [
      " 28%|██▊       | 46/162 [00:15<00:35,  3.28it/s]"
     ]
    },
    {
     "name": "stdout",
     "output_type": "stream",
     "text": [
      "gemini-2.0-flash_ja-jp_xml_input_json-full_output_most-kana-ratio_shuffle.jsonl\n"
     ]
    },
    {
     "name": "stderr",
     "output_type": "stream",
     "text": [
      " 29%|██▉       | 47/162 [00:15<00:35,  3.25it/s]"
     ]
    },
    {
     "name": "stdout",
     "output_type": "stream",
     "text": [
      "gemini-2.0-flash_ja-jp_xml_input_json-full_output_fewest-kana-ratio_shuffle.jsonl\n"
     ]
    },
    {
     "name": "stderr",
     "output_type": "stream",
     "text": [
      " 30%|██▉       | 48/162 [00:15<00:35,  3.22it/s]"
     ]
    },
    {
     "name": "stdout",
     "output_type": "stream",
     "text": [
      "gemini-2.0-flash_ja-jp_xml_input_xml-full_output_default_shuffle.jsonl\n"
     ]
    },
    {
     "name": "stderr",
     "output_type": "stream",
     "text": [
      " 30%|███       | 49/162 [00:16<00:33,  3.38it/s]"
     ]
    },
    {
     "name": "stdout",
     "output_type": "stream",
     "text": [
      "gemini-2.0-flash_ja-jp_xml_input_xml-full_output_reverse_shuffle.jsonl\n"
     ]
    },
    {
     "name": "stderr",
     "output_type": "stream",
     "text": [
      " 31%|███       | 50/162 [00:16<00:32,  3.45it/s]"
     ]
    },
    {
     "name": "stdout",
     "output_type": "stream",
     "text": [
      "gemini-2.0-flash_ja-jp_xml_input_xml-full_output_longest-first_shuffle.jsonl\n"
     ]
    },
    {
     "name": "stderr",
     "output_type": "stream",
     "text": [
      " 31%|███▏      | 51/162 [00:16<00:32,  3.41it/s]"
     ]
    },
    {
     "name": "stdout",
     "output_type": "stream",
     "text": [
      "gemini-2.0-flash_ja-jp_xml_input_xml-full_output_shortest-first_shuffle.jsonl\n"
     ]
    },
    {
     "name": "stderr",
     "output_type": "stream",
     "text": [
      " 32%|███▏      | 52/162 [00:17<00:32,  3.37it/s]"
     ]
    },
    {
     "name": "stdout",
     "output_type": "stream",
     "text": [
      "gemini-2.0-flash_ja-jp_xml_input_xml-full_output_most-kana-ratio_shuffle.jsonl\n"
     ]
    },
    {
     "name": "stderr",
     "output_type": "stream",
     "text": [
      " 33%|███▎      | 53/162 [00:17<00:33,  3.30it/s]"
     ]
    },
    {
     "name": "stdout",
     "output_type": "stream",
     "text": [
      "gemini-2.0-flash_ja-jp_xml_input_xml-full_output_fewest-kana-ratio_shuffle.jsonl\n"
     ]
    },
    {
     "name": "stderr",
     "output_type": "stream",
     "text": [
      " 33%|███▎      | 54/162 [00:17<00:33,  3.25it/s]"
     ]
    },
    {
     "name": "stdout",
     "output_type": "stream",
     "text": [
      "mistral-small-2503_ja-jp_base_input_base_output_default_shuffle.jsonl\n"
     ]
    },
    {
     "name": "stderr",
     "output_type": "stream",
     "text": [
      " 34%|███▍      | 55/162 [00:17<00:30,  3.51it/s]"
     ]
    },
    {
     "name": "stdout",
     "output_type": "stream",
     "text": [
      "mistral-small-2503_ja-jp_base_input_base_output_reverse_shuffle.jsonl\n"
     ]
    },
    {
     "name": "stderr",
     "output_type": "stream",
     "text": [
      " 35%|███▍      | 56/162 [00:18<00:28,  3.67it/s]"
     ]
    },
    {
     "name": "stdout",
     "output_type": "stream",
     "text": [
      "mistral-small-2503_ja-jp_base_input_base_output_longest-first_shuffle.jsonl\n"
     ]
    },
    {
     "name": "stderr",
     "output_type": "stream",
     "text": [
      " 35%|███▌      | 57/162 [00:18<00:28,  3.66it/s]"
     ]
    },
    {
     "name": "stdout",
     "output_type": "stream",
     "text": [
      "mistral-small-2503_ja-jp_base_input_base_output_shortest-first_shuffle.jsonl\n"
     ]
    },
    {
     "name": "stderr",
     "output_type": "stream",
     "text": [
      " 36%|███▌      | 58/162 [00:18<00:28,  3.65it/s]"
     ]
    },
    {
     "name": "stdout",
     "output_type": "stream",
     "text": [
      "mistral-small-2503_ja-jp_base_input_base_output_most-kana-ratio_shuffle.jsonl\n"
     ]
    },
    {
     "name": "stderr",
     "output_type": "stream",
     "text": [
      " 36%|███▋      | 59/162 [00:18<00:28,  3.60it/s]"
     ]
    },
    {
     "name": "stdout",
     "output_type": "stream",
     "text": [
      "mistral-small-2503_ja-jp_base_input_base_output_fewest-kana-ratio_shuffle.jsonl\n"
     ]
    },
    {
     "name": "stderr",
     "output_type": "stream",
     "text": [
      " 37%|███▋      | 60/162 [00:19<00:28,  3.56it/s]"
     ]
    },
    {
     "name": "stdout",
     "output_type": "stream",
     "text": [
      "mistral-small-2503_ja-jp_base_input_json-full_output_default_shuffle.jsonl\n"
     ]
    },
    {
     "name": "stderr",
     "output_type": "stream",
     "text": [
      " 38%|███▊      | 61/162 [00:19<00:29,  3.38it/s]"
     ]
    },
    {
     "name": "stdout",
     "output_type": "stream",
     "text": [
      "mistral-small-2503_ja-jp_base_input_json-full_output_reverse_shuffle.jsonl\n"
     ]
    },
    {
     "name": "stderr",
     "output_type": "stream",
     "text": [
      " 38%|███▊      | 62/162 [00:20<00:35,  2.84it/s]"
     ]
    },
    {
     "name": "stdout",
     "output_type": "stream",
     "text": [
      "mistral-small-2503_ja-jp_base_input_json-full_output_longest-first_shuffle.jsonl\n"
     ]
    },
    {
     "name": "stderr",
     "output_type": "stream",
     "text": [
      " 39%|███▉      | 63/162 [00:20<00:35,  2.80it/s]"
     ]
    },
    {
     "name": "stdout",
     "output_type": "stream",
     "text": [
      "mistral-small-2503_ja-jp_base_input_json-full_output_shortest-first_shuffle.jsonl\n"
     ]
    },
    {
     "name": "stderr",
     "output_type": "stream",
     "text": [
      " 40%|███▉      | 64/162 [00:20<00:35,  2.78it/s]"
     ]
    },
    {
     "name": "stdout",
     "output_type": "stream",
     "text": [
      "mistral-small-2503_ja-jp_base_input_json-full_output_most-kana-ratio_shuffle.jsonl\n"
     ]
    },
    {
     "name": "stderr",
     "output_type": "stream",
     "text": [
      " 40%|████      | 65/162 [00:21<00:35,  2.73it/s]"
     ]
    },
    {
     "name": "stdout",
     "output_type": "stream",
     "text": [
      "mistral-small-2503_ja-jp_base_input_json-full_output_fewest-kana-ratio_shuffle.jsonl\n"
     ]
    },
    {
     "name": "stderr",
     "output_type": "stream",
     "text": [
      " 41%|████      | 66/162 [00:21<00:35,  2.69it/s]"
     ]
    },
    {
     "name": "stdout",
     "output_type": "stream",
     "text": [
      "mistral-small-2503_ja-jp_base_input_xml-full_output_default_shuffle.jsonl\n"
     ]
    },
    {
     "name": "stderr",
     "output_type": "stream",
     "text": [
      " 41%|████▏     | 67/162 [00:21<00:30,  3.11it/s]"
     ]
    },
    {
     "name": "stdout",
     "output_type": "stream",
     "text": [
      "mistral-small-2503_ja-jp_base_input_xml-full_output_reverse_shuffle.jsonl\n"
     ]
    },
    {
     "name": "stderr",
     "output_type": "stream",
     "text": [
      " 42%|████▏     | 68/162 [00:21<00:27,  3.46it/s]"
     ]
    },
    {
     "name": "stdout",
     "output_type": "stream",
     "text": [
      "mistral-small-2503_ja-jp_base_input_xml-full_output_longest-first_shuffle.jsonl\n"
     ]
    },
    {
     "name": "stderr",
     "output_type": "stream",
     "text": [
      " 43%|████▎     | 69/162 [00:22<00:25,  3.66it/s]"
     ]
    },
    {
     "name": "stdout",
     "output_type": "stream",
     "text": [
      "mistral-small-2503_ja-jp_base_input_xml-full_output_shortest-first_shuffle.jsonl\n"
     ]
    },
    {
     "name": "stderr",
     "output_type": "stream",
     "text": [
      " 43%|████▎     | 70/162 [00:22<00:24,  3.81it/s]"
     ]
    },
    {
     "name": "stdout",
     "output_type": "stream",
     "text": [
      "mistral-small-2503_ja-jp_base_input_xml-full_output_most-kana-ratio_shuffle.jsonl\n"
     ]
    },
    {
     "name": "stderr",
     "output_type": "stream",
     "text": [
      " 44%|████▍     | 71/162 [00:22<00:23,  3.86it/s]"
     ]
    },
    {
     "name": "stdout",
     "output_type": "stream",
     "text": [
      "mistral-small-2503_ja-jp_base_input_xml-full_output_fewest-kana-ratio_shuffle.jsonl\n"
     ]
    },
    {
     "name": "stderr",
     "output_type": "stream",
     "text": [
      " 44%|████▍     | 72/162 [00:22<00:23,  3.89it/s]"
     ]
    },
    {
     "name": "stdout",
     "output_type": "stream",
     "text": [
      "mistral-small-2503_ja-jp_json_input_base_output_default_shuffle.jsonl\n"
     ]
    },
    {
     "name": "stderr",
     "output_type": "stream",
     "text": [
      " 45%|████▌     | 73/162 [00:23<00:22,  3.99it/s]"
     ]
    },
    {
     "name": "stdout",
     "output_type": "stream",
     "text": [
      "mistral-small-2503_ja-jp_json_input_base_output_reverse_shuffle.jsonl\n"
     ]
    },
    {
     "name": "stderr",
     "output_type": "stream",
     "text": [
      " 46%|████▌     | 74/162 [00:23<00:21,  4.00it/s]"
     ]
    },
    {
     "name": "stdout",
     "output_type": "stream",
     "text": [
      "mistral-small-2503_ja-jp_json_input_base_output_longest-first_shuffle.jsonl\n"
     ]
    },
    {
     "name": "stderr",
     "output_type": "stream",
     "text": [
      " 46%|████▋     | 75/162 [00:23<00:22,  3.89it/s]"
     ]
    },
    {
     "name": "stdout",
     "output_type": "stream",
     "text": [
      "mistral-small-2503_ja-jp_json_input_base_output_shortest-first_shuffle.jsonl\n"
     ]
    },
    {
     "name": "stderr",
     "output_type": "stream",
     "text": [
      " 47%|████▋     | 76/162 [00:24<00:22,  3.80it/s]"
     ]
    },
    {
     "name": "stdout",
     "output_type": "stream",
     "text": [
      "mistral-small-2503_ja-jp_json_input_base_output_most-kana-ratio_shuffle.jsonl\n"
     ]
    },
    {
     "name": "stderr",
     "output_type": "stream",
     "text": [
      " 48%|████▊     | 77/162 [00:24<00:23,  3.69it/s]"
     ]
    },
    {
     "name": "stdout",
     "output_type": "stream",
     "text": [
      "mistral-small-2503_ja-jp_json_input_base_output_fewest-kana-ratio_shuffle.jsonl\n"
     ]
    },
    {
     "name": "stderr",
     "output_type": "stream",
     "text": [
      " 48%|████▊     | 78/162 [00:24<00:23,  3.60it/s]"
     ]
    },
    {
     "name": "stdout",
     "output_type": "stream",
     "text": [
      "mistral-small-2503_ja-jp_json_input_json-full_output_default_shuffle.jsonl\n"
     ]
    },
    {
     "name": "stderr",
     "output_type": "stream",
     "text": [
      " 49%|████▉     | 79/162 [00:24<00:25,  3.29it/s]"
     ]
    },
    {
     "name": "stdout",
     "output_type": "stream",
     "text": [
      "mistral-small-2503_ja-jp_json_input_json-full_output_reverse_shuffle.jsonl\n"
     ]
    },
    {
     "name": "stderr",
     "output_type": "stream",
     "text": [
      " 49%|████▉     | 80/162 [00:25<00:26,  3.04it/s]"
     ]
    },
    {
     "name": "stdout",
     "output_type": "stream",
     "text": [
      "mistral-small-2503_ja-jp_json_input_json-full_output_longest-first_shuffle.jsonl\n"
     ]
    },
    {
     "name": "stderr",
     "output_type": "stream",
     "text": [
      " 50%|█████     | 81/162 [00:25<00:28,  2.84it/s]"
     ]
    },
    {
     "name": "stdout",
     "output_type": "stream",
     "text": [
      "mistral-small-2503_ja-jp_json_input_json-full_output_shortest-first_shuffle.jsonl\n"
     ]
    },
    {
     "name": "stderr",
     "output_type": "stream",
     "text": [
      " 51%|█████     | 82/162 [00:26<00:29,  2.71it/s]"
     ]
    },
    {
     "name": "stdout",
     "output_type": "stream",
     "text": [
      "mistral-small-2503_ja-jp_json_input_json-full_output_most-kana-ratio_shuffle.jsonl\n"
     ]
    },
    {
     "name": "stderr",
     "output_type": "stream",
     "text": [
      " 51%|█████     | 83/162 [00:26<00:30,  2.60it/s]"
     ]
    },
    {
     "name": "stdout",
     "output_type": "stream",
     "text": [
      "mistral-small-2503_ja-jp_json_input_json-full_output_fewest-kana-ratio_shuffle.jsonl\n"
     ]
    },
    {
     "name": "stderr",
     "output_type": "stream",
     "text": [
      " 52%|█████▏    | 84/162 [00:27<00:30,  2.52it/s]"
     ]
    },
    {
     "name": "stdout",
     "output_type": "stream",
     "text": [
      "mistral-small-2503_ja-jp_json_input_xml-full_output_default_shuffle.jsonl\n"
     ]
    },
    {
     "name": "stderr",
     "output_type": "stream",
     "text": [
      " 52%|█████▏    | 85/162 [00:27<00:27,  2.85it/s]"
     ]
    },
    {
     "name": "stdout",
     "output_type": "stream",
     "text": [
      "mistral-small-2503_ja-jp_json_input_xml-full_output_reverse_shuffle.jsonl\n"
     ]
    },
    {
     "name": "stderr",
     "output_type": "stream",
     "text": [
      " 53%|█████▎    | 86/162 [00:27<00:24,  3.10it/s]"
     ]
    },
    {
     "name": "stdout",
     "output_type": "stream",
     "text": [
      "mistral-small-2503_ja-jp_json_input_xml-full_output_longest-first_shuffle.jsonl\n"
     ]
    },
    {
     "name": "stderr",
     "output_type": "stream",
     "text": [
      " 54%|█████▎    | 87/162 [00:27<00:23,  3.23it/s]"
     ]
    },
    {
     "name": "stdout",
     "output_type": "stream",
     "text": [
      "mistral-small-2503_ja-jp_json_input_xml-full_output_shortest-first_shuffle.jsonl\n"
     ]
    },
    {
     "name": "stderr",
     "output_type": "stream",
     "text": [
      " 54%|█████▍    | 88/162 [00:28<00:22,  3.32it/s]"
     ]
    },
    {
     "name": "stdout",
     "output_type": "stream",
     "text": [
      "mistral-small-2503_ja-jp_json_input_xml-full_output_most-kana-ratio_shuffle.jsonl\n"
     ]
    },
    {
     "name": "stderr",
     "output_type": "stream",
     "text": [
      " 55%|█████▍    | 89/162 [00:28<00:21,  3.34it/s]"
     ]
    },
    {
     "name": "stdout",
     "output_type": "stream",
     "text": [
      "mistral-small-2503_ja-jp_json_input_xml-full_output_fewest-kana-ratio_shuffle.jsonl\n"
     ]
    },
    {
     "name": "stderr",
     "output_type": "stream",
     "text": [
      " 56%|█████▌    | 90/162 [00:28<00:21,  3.34it/s]"
     ]
    },
    {
     "name": "stdout",
     "output_type": "stream",
     "text": [
      "mistral-small-2503_ja-jp_xml_input_base_output_default_shuffle.jsonl\n"
     ]
    },
    {
     "name": "stderr",
     "output_type": "stream",
     "text": [
      " 56%|█████▌    | 91/162 [00:28<00:21,  3.30it/s]"
     ]
    },
    {
     "name": "stdout",
     "output_type": "stream",
     "text": [
      "mistral-small-2503_ja-jp_xml_input_base_output_reverse_shuffle.jsonl\n"
     ]
    },
    {
     "name": "stderr",
     "output_type": "stream",
     "text": [
      " 57%|█████▋    | 92/162 [00:29<00:21,  3.24it/s]"
     ]
    },
    {
     "name": "stdout",
     "output_type": "stream",
     "text": [
      "mistral-small-2503_ja-jp_xml_input_base_output_longest-first_shuffle.jsonl\n"
     ]
    },
    {
     "name": "stderr",
     "output_type": "stream",
     "text": [
      " 57%|█████▋    | 93/162 [00:29<00:22,  3.09it/s]"
     ]
    },
    {
     "name": "stdout",
     "output_type": "stream",
     "text": [
      "mistral-small-2503_ja-jp_xml_input_base_output_shortest-first_shuffle.jsonl\n"
     ]
    },
    {
     "name": "stderr",
     "output_type": "stream",
     "text": [
      " 58%|█████▊    | 94/162 [00:30<00:26,  2.60it/s]"
     ]
    },
    {
     "name": "stdout",
     "output_type": "stream",
     "text": [
      "mistral-small-2503_ja-jp_xml_input_base_output_most-kana-ratio_shuffle.jsonl\n"
     ]
    },
    {
     "name": "stderr",
     "output_type": "stream",
     "text": [
      " 59%|█████▊    | 95/162 [00:30<00:25,  2.61it/s]"
     ]
    },
    {
     "name": "stdout",
     "output_type": "stream",
     "text": [
      "mistral-small-2503_ja-jp_xml_input_base_output_fewest-kana-ratio_shuffle.jsonl\n"
     ]
    },
    {
     "name": "stderr",
     "output_type": "stream",
     "text": [
      " 59%|█████▉    | 96/162 [00:30<00:25,  2.63it/s]"
     ]
    },
    {
     "name": "stdout",
     "output_type": "stream",
     "text": [
      "mistral-small-2503_ja-jp_xml_input_json-full_output_default_shuffle.jsonl\n"
     ]
    },
    {
     "name": "stderr",
     "output_type": "stream",
     "text": [
      " 60%|█████▉    | 97/162 [00:31<00:22,  2.87it/s]"
     ]
    },
    {
     "name": "stdout",
     "output_type": "stream",
     "text": [
      "mistral-small-2503_ja-jp_xml_input_json-full_output_reverse_shuffle.jsonl\n"
     ]
    },
    {
     "name": "stderr",
     "output_type": "stream",
     "text": [
      " 60%|██████    | 98/162 [00:31<00:21,  3.04it/s]"
     ]
    },
    {
     "name": "stdout",
     "output_type": "stream",
     "text": [
      "mistral-small-2503_ja-jp_xml_input_json-full_output_longest-first_shuffle.jsonl\n"
     ]
    },
    {
     "name": "stderr",
     "output_type": "stream",
     "text": [
      " 61%|██████    | 99/162 [00:31<00:20,  3.09it/s]"
     ]
    },
    {
     "name": "stdout",
     "output_type": "stream",
     "text": [
      "mistral-small-2503_ja-jp_xml_input_json-full_output_shortest-first_shuffle.jsonl\n"
     ]
    },
    {
     "name": "stderr",
     "output_type": "stream",
     "text": [
      " 62%|██████▏   | 100/162 [00:32<00:19,  3.12it/s]"
     ]
    },
    {
     "name": "stdout",
     "output_type": "stream",
     "text": [
      "mistral-small-2503_ja-jp_xml_input_json-full_output_most-kana-ratio_shuffle.jsonl\n"
     ]
    },
    {
     "name": "stderr",
     "output_type": "stream",
     "text": [
      " 62%|██████▏   | 101/162 [00:32<00:19,  3.12it/s]"
     ]
    },
    {
     "name": "stdout",
     "output_type": "stream",
     "text": [
      "mistral-small-2503_ja-jp_xml_input_json-full_output_fewest-kana-ratio_shuffle.jsonl\n"
     ]
    },
    {
     "name": "stderr",
     "output_type": "stream",
     "text": [
      " 63%|██████▎   | 102/162 [00:32<00:19,  3.12it/s]"
     ]
    },
    {
     "name": "stdout",
     "output_type": "stream",
     "text": [
      "mistral-small-2503_ja-jp_xml_input_xml-full_output_default_shuffle.jsonl\n"
     ]
    },
    {
     "name": "stderr",
     "output_type": "stream",
     "text": [
      " 64%|██████▎   | 103/162 [00:33<00:18,  3.27it/s]"
     ]
    },
    {
     "name": "stdout",
     "output_type": "stream",
     "text": [
      "mistral-small-2503_ja-jp_xml_input_xml-full_output_reverse_shuffle.jsonl\n"
     ]
    },
    {
     "name": "stderr",
     "output_type": "stream",
     "text": [
      " 64%|██████▍   | 104/162 [00:33<00:17,  3.35it/s]"
     ]
    },
    {
     "name": "stdout",
     "output_type": "stream",
     "text": [
      "mistral-small-2503_ja-jp_xml_input_xml-full_output_longest-first_shuffle.jsonl\n"
     ]
    },
    {
     "name": "stderr",
     "output_type": "stream",
     "text": [
      " 65%|██████▍   | 105/162 [00:33<00:17,  3.32it/s]"
     ]
    },
    {
     "name": "stdout",
     "output_type": "stream",
     "text": [
      "mistral-small-2503_ja-jp_xml_input_xml-full_output_shortest-first_shuffle.jsonl\n"
     ]
    },
    {
     "name": "stderr",
     "output_type": "stream",
     "text": [
      " 65%|██████▌   | 106/162 [00:33<00:17,  3.29it/s]"
     ]
    },
    {
     "name": "stdout",
     "output_type": "stream",
     "text": [
      "mistral-small-2503_ja-jp_xml_input_xml-full_output_most-kana-ratio_shuffle.jsonl\n"
     ]
    },
    {
     "name": "stderr",
     "output_type": "stream",
     "text": [
      " 66%|██████▌   | 107/162 [00:34<00:16,  3.24it/s]"
     ]
    },
    {
     "name": "stdout",
     "output_type": "stream",
     "text": [
      "mistral-small-2503_ja-jp_xml_input_xml-full_output_fewest-kana-ratio_shuffle.jsonl\n"
     ]
    },
    {
     "name": "stderr",
     "output_type": "stream",
     "text": [
      " 67%|██████▋   | 109/162 [00:34<00:14,  3.60it/s]"
     ]
    },
    {
     "name": "stdout",
     "output_type": "stream",
     "text": [
      "llama-v3p1-8b-instruct_ja-jp_base_input_base_output_default_shuffle.jsonl\n",
      "llama-v3p1-8b-instruct_ja-jp_base_input_base_output_reverse_shuffle.jsonl\n"
     ]
    },
    {
     "name": "stderr",
     "output_type": "stream",
     "text": [
      " 68%|██████▊   | 110/162 [00:34<00:13,  3.89it/s]"
     ]
    },
    {
     "name": "stdout",
     "output_type": "stream",
     "text": [
      "llama-v3p1-8b-instruct_ja-jp_base_input_base_output_longest-first_shuffle.jsonl\n"
     ]
    },
    {
     "name": "stderr",
     "output_type": "stream",
     "text": [
      " 69%|██████▊   | 111/162 [00:35<00:12,  3.96it/s]"
     ]
    },
    {
     "name": "stdout",
     "output_type": "stream",
     "text": [
      "llama-v3p1-8b-instruct_ja-jp_base_input_base_output_shortest-first_shuffle.jsonl\n"
     ]
    },
    {
     "name": "stderr",
     "output_type": "stream",
     "text": [
      " 69%|██████▉   | 112/162 [00:35<00:12,  4.01it/s]"
     ]
    },
    {
     "name": "stdout",
     "output_type": "stream",
     "text": [
      "llama-v3p1-8b-instruct_ja-jp_base_input_base_output_most-kana-ratio_shuffle.jsonl\n"
     ]
    },
    {
     "name": "stderr",
     "output_type": "stream",
     "text": [
      " 70%|██████▉   | 113/162 [00:35<00:12,  3.97it/s]"
     ]
    },
    {
     "name": "stdout",
     "output_type": "stream",
     "text": [
      "llama-v3p1-8b-instruct_ja-jp_base_input_base_output_fewest-kana-ratio_shuffle.jsonl\n"
     ]
    },
    {
     "name": "stderr",
     "output_type": "stream",
     "text": [
      " 70%|███████   | 114/162 [00:35<00:12,  3.95it/s]"
     ]
    },
    {
     "name": "stdout",
     "output_type": "stream",
     "text": [
      "llama-v3p1-8b-instruct_ja-jp_base_input_json-full_output_default_shuffle.jsonl\n"
     ]
    },
    {
     "name": "stderr",
     "output_type": "stream",
     "text": [
      " 71%|███████   | 115/162 [00:36<00:11,  4.18it/s]"
     ]
    },
    {
     "name": "stdout",
     "output_type": "stream",
     "text": [
      "llama-v3p1-8b-instruct_ja-jp_base_input_json-full_output_reverse_shuffle.jsonl\n"
     ]
    },
    {
     "name": "stderr",
     "output_type": "stream",
     "text": [
      " 72%|███████▏  | 116/162 [00:36<00:10,  4.25it/s]"
     ]
    },
    {
     "name": "stdout",
     "output_type": "stream",
     "text": [
      "llama-v3p1-8b-instruct_ja-jp_base_input_json-full_output_longest-first_shuffle.jsonl\n"
     ]
    },
    {
     "name": "stderr",
     "output_type": "stream",
     "text": [
      " 72%|███████▏  | 117/162 [00:36<00:10,  4.21it/s]"
     ]
    },
    {
     "name": "stdout",
     "output_type": "stream",
     "text": [
      "llama-v3p1-8b-instruct_ja-jp_base_input_json-full_output_shortest-first_shuffle.jsonl\n"
     ]
    },
    {
     "name": "stderr",
     "output_type": "stream",
     "text": [
      " 73%|███████▎  | 118/162 [00:36<00:10,  4.17it/s]"
     ]
    },
    {
     "name": "stdout",
     "output_type": "stream",
     "text": [
      "llama-v3p1-8b-instruct_ja-jp_base_input_json-full_output_most-kana-ratio_shuffle.jsonl\n"
     ]
    },
    {
     "name": "stderr",
     "output_type": "stream",
     "text": [
      " 73%|███████▎  | 119/162 [00:37<00:10,  4.04it/s]"
     ]
    },
    {
     "name": "stdout",
     "output_type": "stream",
     "text": [
      "llama-v3p1-8b-instruct_ja-jp_base_input_json-full_output_fewest-kana-ratio_shuffle.jsonl\n"
     ]
    },
    {
     "name": "stderr",
     "output_type": "stream",
     "text": [
      " 74%|███████▍  | 120/162 [00:37<00:10,  3.98it/s]"
     ]
    },
    {
     "name": "stdout",
     "output_type": "stream",
     "text": [
      "llama-v3p1-8b-instruct_ja-jp_base_input_xml-full_output_default_shuffle.jsonl\n"
     ]
    },
    {
     "name": "stderr",
     "output_type": "stream",
     "text": [
      " 75%|███████▍  | 121/162 [00:37<00:09,  4.21it/s]"
     ]
    },
    {
     "name": "stdout",
     "output_type": "stream",
     "text": [
      "llama-v3p1-8b-instruct_ja-jp_base_input_xml-full_output_reverse_shuffle.jsonl\n"
     ]
    },
    {
     "name": "stderr",
     "output_type": "stream",
     "text": [
      " 75%|███████▌  | 122/162 [00:37<00:09,  4.34it/s]"
     ]
    },
    {
     "name": "stdout",
     "output_type": "stream",
     "text": [
      "llama-v3p1-8b-instruct_ja-jp_base_input_xml-full_output_longest-first_shuffle.jsonl\n"
     ]
    },
    {
     "name": "stderr",
     "output_type": "stream",
     "text": [
      " 76%|███████▌  | 123/162 [00:38<00:09,  4.27it/s]"
     ]
    },
    {
     "name": "stdout",
     "output_type": "stream",
     "text": [
      "llama-v3p1-8b-instruct_ja-jp_base_input_xml-full_output_shortest-first_shuffle.jsonl\n"
     ]
    },
    {
     "name": "stderr",
     "output_type": "stream",
     "text": [
      " 77%|███████▋  | 124/162 [00:38<00:09,  4.20it/s]"
     ]
    },
    {
     "name": "stdout",
     "output_type": "stream",
     "text": [
      "llama-v3p1-8b-instruct_ja-jp_base_input_xml-full_output_most-kana-ratio_shuffle.jsonl\n"
     ]
    },
    {
     "name": "stderr",
     "output_type": "stream",
     "text": [
      " 77%|███████▋  | 125/162 [00:38<00:09,  4.10it/s]"
     ]
    },
    {
     "name": "stdout",
     "output_type": "stream",
     "text": [
      "llama-v3p1-8b-instruct_ja-jp_base_input_xml-full_output_fewest-kana-ratio_shuffle.jsonl\n"
     ]
    },
    {
     "name": "stderr",
     "output_type": "stream",
     "text": [
      " 78%|███████▊  | 126/162 [00:38<00:08,  4.03it/s]"
     ]
    },
    {
     "name": "stdout",
     "output_type": "stream",
     "text": [
      "llama-v3p1-8b-instruct_ja-jp_json_input_base_output_default_shuffle.jsonl\n"
     ]
    },
    {
     "name": "stderr",
     "output_type": "stream",
     "text": [
      " 78%|███████▊  | 127/162 [00:39<00:08,  4.08it/s]"
     ]
    },
    {
     "name": "stdout",
     "output_type": "stream",
     "text": [
      "llama-v3p1-8b-instruct_ja-jp_json_input_base_output_reverse_shuffle.jsonl\n"
     ]
    },
    {
     "name": "stderr",
     "output_type": "stream",
     "text": [
      " 79%|███████▉  | 128/162 [00:39<00:08,  4.05it/s]"
     ]
    },
    {
     "name": "stdout",
     "output_type": "stream",
     "text": [
      "llama-v3p1-8b-instruct_ja-jp_json_input_base_output_longest-first_shuffle.jsonl\n"
     ]
    },
    {
     "name": "stderr",
     "output_type": "stream",
     "text": [
      " 80%|███████▉  | 129/162 [00:39<00:08,  3.89it/s]"
     ]
    },
    {
     "name": "stdout",
     "output_type": "stream",
     "text": [
      "llama-v3p1-8b-instruct_ja-jp_json_input_base_output_shortest-first_shuffle.jsonl\n"
     ]
    },
    {
     "name": "stderr",
     "output_type": "stream",
     "text": [
      " 80%|████████  | 130/162 [00:39<00:08,  3.78it/s]"
     ]
    },
    {
     "name": "stdout",
     "output_type": "stream",
     "text": [
      "llama-v3p1-8b-instruct_ja-jp_json_input_base_output_most-kana-ratio_shuffle.jsonl\n"
     ]
    },
    {
     "name": "stderr",
     "output_type": "stream",
     "text": [
      " 81%|████████  | 131/162 [00:40<00:08,  3.65it/s]"
     ]
    },
    {
     "name": "stdout",
     "output_type": "stream",
     "text": [
      "llama-v3p1-8b-instruct_ja-jp_json_input_base_output_fewest-kana-ratio_shuffle.jsonl\n"
     ]
    },
    {
     "name": "stderr",
     "output_type": "stream",
     "text": [
      " 81%|████████▏ | 132/162 [00:40<00:08,  3.56it/s]"
     ]
    },
    {
     "name": "stdout",
     "output_type": "stream",
     "text": [
      "llama-v3p1-8b-instruct_ja-jp_json_input_json-full_output_default_shuffle.jsonl\n"
     ]
    },
    {
     "name": "stderr",
     "output_type": "stream",
     "text": [
      " 82%|████████▏ | 133/162 [00:40<00:07,  3.70it/s]"
     ]
    },
    {
     "name": "stdout",
     "output_type": "stream",
     "text": [
      "llama-v3p1-8b-instruct_ja-jp_json_input_json-full_output_reverse_shuffle.jsonl\n"
     ]
    },
    {
     "name": "stderr",
     "output_type": "stream",
     "text": [
      " 83%|████████▎ | 134/162 [00:40<00:07,  3.76it/s]"
     ]
    },
    {
     "name": "stdout",
     "output_type": "stream",
     "text": [
      "llama-v3p1-8b-instruct_ja-jp_json_input_json-full_output_longest-first_shuffle.jsonl\n"
     ]
    },
    {
     "name": "stderr",
     "output_type": "stream",
     "text": [
      " 83%|████████▎ | 135/162 [00:41<00:07,  3.68it/s]"
     ]
    },
    {
     "name": "stdout",
     "output_type": "stream",
     "text": [
      "llama-v3p1-8b-instruct_ja-jp_json_input_json-full_output_shortest-first_shuffle.jsonl\n"
     ]
    },
    {
     "name": "stderr",
     "output_type": "stream",
     "text": [
      " 84%|████████▍ | 136/162 [00:41<00:07,  3.57it/s]"
     ]
    },
    {
     "name": "stdout",
     "output_type": "stream",
     "text": [
      "llama-v3p1-8b-instruct_ja-jp_json_input_json-full_output_most-kana-ratio_shuffle.jsonl\n"
     ]
    },
    {
     "name": "stderr",
     "output_type": "stream",
     "text": [
      " 85%|████████▍ | 137/162 [00:41<00:07,  3.46it/s]"
     ]
    },
    {
     "name": "stdout",
     "output_type": "stream",
     "text": [
      "llama-v3p1-8b-instruct_ja-jp_json_input_json-full_output_fewest-kana-ratio_shuffle.jsonl\n"
     ]
    },
    {
     "name": "stderr",
     "output_type": "stream",
     "text": [
      " 85%|████████▌ | 138/162 [00:42<00:07,  3.41it/s]"
     ]
    },
    {
     "name": "stdout",
     "output_type": "stream",
     "text": [
      "llama-v3p1-8b-instruct_ja-jp_json_input_xml-full_output_default_shuffle.jsonl\n"
     ]
    },
    {
     "name": "stderr",
     "output_type": "stream",
     "text": [
      " 86%|████████▌ | 139/162 [00:42<00:06,  3.59it/s]"
     ]
    },
    {
     "name": "stdout",
     "output_type": "stream",
     "text": [
      "llama-v3p1-8b-instruct_ja-jp_json_input_xml-full_output_reverse_shuffle.jsonl\n"
     ]
    },
    {
     "name": "stderr",
     "output_type": "stream",
     "text": [
      " 86%|████████▋ | 140/162 [00:42<00:05,  3.68it/s]"
     ]
    },
    {
     "name": "stdout",
     "output_type": "stream",
     "text": [
      "llama-v3p1-8b-instruct_ja-jp_json_input_xml-full_output_longest-first_shuffle.jsonl\n"
     ]
    },
    {
     "name": "stderr",
     "output_type": "stream",
     "text": [
      " 87%|████████▋ | 141/162 [00:42<00:05,  3.61it/s]"
     ]
    },
    {
     "name": "stdout",
     "output_type": "stream",
     "text": [
      "llama-v3p1-8b-instruct_ja-jp_json_input_xml-full_output_shortest-first_shuffle.jsonl\n"
     ]
    },
    {
     "name": "stderr",
     "output_type": "stream",
     "text": [
      " 88%|████████▊ | 142/162 [00:43<00:05,  3.58it/s]"
     ]
    },
    {
     "name": "stdout",
     "output_type": "stream",
     "text": [
      "llama-v3p1-8b-instruct_ja-jp_json_input_xml-full_output_most-kana-ratio_shuffle.jsonl\n"
     ]
    },
    {
     "name": "stderr",
     "output_type": "stream",
     "text": [
      " 88%|████████▊ | 143/162 [00:43<00:05,  3.51it/s]"
     ]
    },
    {
     "name": "stdout",
     "output_type": "stream",
     "text": [
      "llama-v3p1-8b-instruct_ja-jp_json_input_xml-full_output_fewest-kana-ratio_shuffle.jsonl\n"
     ]
    },
    {
     "name": "stderr",
     "output_type": "stream",
     "text": [
      " 89%|████████▉ | 144/162 [00:43<00:05,  3.45it/s]"
     ]
    },
    {
     "name": "stdout",
     "output_type": "stream",
     "text": [
      "llama-v3p1-8b-instruct_ja-jp_xml_input_base_output_default_shuffle.jsonl\n"
     ]
    },
    {
     "name": "stderr",
     "output_type": "stream",
     "text": [
      " 90%|████████▉ | 145/162 [00:44<00:04,  3.54it/s]"
     ]
    },
    {
     "name": "stdout",
     "output_type": "stream",
     "text": [
      "llama-v3p1-8b-instruct_ja-jp_xml_input_base_output_reverse_shuffle.jsonl\n"
     ]
    },
    {
     "name": "stderr",
     "output_type": "stream",
     "text": [
      " 90%|█████████ | 146/162 [00:44<00:04,  3.54it/s]"
     ]
    },
    {
     "name": "stdout",
     "output_type": "stream",
     "text": [
      "llama-v3p1-8b-instruct_ja-jp_xml_input_base_output_longest-first_shuffle.jsonl\n"
     ]
    },
    {
     "name": "stderr",
     "output_type": "stream",
     "text": [
      " 91%|█████████ | 147/162 [00:44<00:04,  3.45it/s]"
     ]
    },
    {
     "name": "stdout",
     "output_type": "stream",
     "text": [
      "llama-v3p1-8b-instruct_ja-jp_xml_input_base_output_shortest-first_shuffle.jsonl\n"
     ]
    },
    {
     "name": "stderr",
     "output_type": "stream",
     "text": [
      " 91%|█████████▏| 148/162 [00:45<00:04,  3.38it/s]"
     ]
    },
    {
     "name": "stdout",
     "output_type": "stream",
     "text": [
      "llama-v3p1-8b-instruct_ja-jp_xml_input_base_output_most-kana-ratio_shuffle.jsonl\n"
     ]
    },
    {
     "name": "stderr",
     "output_type": "stream",
     "text": [
      " 92%|█████████▏| 149/162 [00:45<00:03,  3.30it/s]"
     ]
    },
    {
     "name": "stdout",
     "output_type": "stream",
     "text": [
      "llama-v3p1-8b-instruct_ja-jp_xml_input_base_output_fewest-kana-ratio_shuffle.jsonl\n"
     ]
    },
    {
     "name": "stderr",
     "output_type": "stream",
     "text": [
      " 93%|█████████▎| 150/162 [00:45<00:03,  3.24it/s]"
     ]
    },
    {
     "name": "stdout",
     "output_type": "stream",
     "text": [
      "llama-v3p1-8b-instruct_ja-jp_xml_input_json-full_output_default_shuffle.jsonl\n"
     ]
    },
    {
     "name": "stderr",
     "output_type": "stream",
     "text": [
      " 93%|█████████▎| 151/162 [00:45<00:03,  3.37it/s]"
     ]
    },
    {
     "name": "stdout",
     "output_type": "stream",
     "text": [
      "llama-v3p1-8b-instruct_ja-jp_xml_input_json-full_output_reverse_shuffle.jsonl\n"
     ]
    },
    {
     "name": "stderr",
     "output_type": "stream",
     "text": [
      " 94%|█████████▍| 152/162 [00:46<00:02,  3.44it/s]"
     ]
    },
    {
     "name": "stdout",
     "output_type": "stream",
     "text": [
      "llama-v3p1-8b-instruct_ja-jp_xml_input_json-full_output_longest-first_shuffle.jsonl\n"
     ]
    },
    {
     "name": "stderr",
     "output_type": "stream",
     "text": [
      " 94%|█████████▍| 153/162 [00:46<00:02,  3.38it/s]"
     ]
    },
    {
     "name": "stdout",
     "output_type": "stream",
     "text": [
      "llama-v3p1-8b-instruct_ja-jp_xml_input_json-full_output_shortest-first_shuffle.jsonl\n"
     ]
    },
    {
     "name": "stderr",
     "output_type": "stream",
     "text": [
      " 95%|█████████▌| 154/162 [00:46<00:02,  3.33it/s]"
     ]
    },
    {
     "name": "stdout",
     "output_type": "stream",
     "text": [
      "llama-v3p1-8b-instruct_ja-jp_xml_input_json-full_output_most-kana-ratio_shuffle.jsonl\n"
     ]
    },
    {
     "name": "stderr",
     "output_type": "stream",
     "text": [
      " 96%|█████████▌| 155/162 [00:47<00:02,  3.27it/s]"
     ]
    },
    {
     "name": "stdout",
     "output_type": "stream",
     "text": [
      "llama-v3p1-8b-instruct_ja-jp_xml_input_json-full_output_fewest-kana-ratio_shuffle.jsonl\n"
     ]
    },
    {
     "name": "stderr",
     "output_type": "stream",
     "text": [
      " 96%|█████████▋| 156/162 [00:47<00:01,  3.21it/s]"
     ]
    },
    {
     "name": "stdout",
     "output_type": "stream",
     "text": [
      "llama-v3p1-8b-instruct_ja-jp_xml_input_xml-full_output_default_shuffle.jsonl\n"
     ]
    },
    {
     "name": "stderr",
     "output_type": "stream",
     "text": [
      " 97%|█████████▋| 157/162 [00:47<00:01,  3.35it/s]"
     ]
    },
    {
     "name": "stdout",
     "output_type": "stream",
     "text": [
      "llama-v3p1-8b-instruct_ja-jp_xml_input_xml-full_output_reverse_shuffle.jsonl\n"
     ]
    },
    {
     "name": "stderr",
     "output_type": "stream",
     "text": [
      " 98%|█████████▊| 158/162 [00:48<00:01,  3.41it/s]"
     ]
    },
    {
     "name": "stdout",
     "output_type": "stream",
     "text": [
      "llama-v3p1-8b-instruct_ja-jp_xml_input_xml-full_output_longest-first_shuffle.jsonl\n"
     ]
    },
    {
     "name": "stderr",
     "output_type": "stream",
     "text": [
      " 98%|█████████▊| 159/162 [00:48<00:00,  3.36it/s]"
     ]
    },
    {
     "name": "stdout",
     "output_type": "stream",
     "text": [
      "llama-v3p1-8b-instruct_ja-jp_xml_input_xml-full_output_shortest-first_shuffle.jsonl\n"
     ]
    },
    {
     "name": "stderr",
     "output_type": "stream",
     "text": [
      " 99%|█████████▉| 160/162 [00:48<00:00,  3.32it/s]"
     ]
    },
    {
     "name": "stdout",
     "output_type": "stream",
     "text": [
      "llama-v3p1-8b-instruct_ja-jp_xml_input_xml-full_output_most-kana-ratio_shuffle.jsonl\n"
     ]
    },
    {
     "name": "stderr",
     "output_type": "stream",
     "text": [
      " 99%|█████████▉| 161/162 [00:49<00:00,  2.77it/s]"
     ]
    },
    {
     "name": "stdout",
     "output_type": "stream",
     "text": [
      "llama-v3p1-8b-instruct_ja-jp_xml_input_xml-full_output_fewest-kana-ratio_shuffle.jsonl\n"
     ]
    },
    {
     "name": "stderr",
     "output_type": "stream",
     "text": [
      "100%|██████████| 162/162 [00:49<00:00,  3.27it/s]\n"
     ]
    }
   ],
=======
   "execution_count": null,
   "id": "e857b5f4",
   "metadata": {},
   "outputs": [],
>>>>>>> 36b14a94a751fdc658384cfed43c832fbeb4cb51
   "source": [
    "import json\n",
    "from collections import defaultdict\n",
    "from itertools import product\n",
    "from pathlib import Path\n",
    "from tqdm.auto import tqdm\n",
    "import mmmlu_preparer\n",
    "from mmmlu_preparer.answer_extract import extract_answer_from_response\n",
    "\n",
    "\n",
    "chosen_subtasks = TARGET_SUBTASKS\n",
    "combinations = list(product(model_list, input_output_list, shuffle_list))\n",
    "merged_result_dict = defaultdict(list) # \"model_name:\"\n",
    "\n",
    "for lang_enum in lang_list:\n",
    "    mmmlu_ds = create_mmmlu_dataset(lang_enum)\n",
    "    chosen_subtasks = TARGET_SUBTASKS\n",
    "    mmmlu_subset = sample_first_n_data_from_subtask(mmmlu_ds, chosen_subtasks)\n",
    "\n",
    "    for curr_combo in tqdm(combinations):\n",
    "        model_name, format_tuple, shuffle_method_enum = curr_combo\n",
    "        if lang_enum is MMMLULanguage.EN and shuffle_method_enum in [ShuffleMethod.MOST_KANA_RATIO, ShuffleMethod.FEWEST_KANA_RATIO]:\n",
    "            continue\n",
    "        input_format, output_format = format_tuple\n",
    "        lang_string = lang_enum.value.lower().replace(\"_\", \"-\")\n",
    "        shuffle_method = shuffle_method_enum.name.lower().replace(\"_\", \"-\")\n",
    "        log_file_name = f\"{model_name}_{lang_string}_{input_format}_input_{output_format}_output_{shuffle_method}_shuffle.jsonl\"\n",
    "        print(log_file_name)\n",
    "\n",
    "        input_format_enum = InputFormat(input_format.replace(\"-\", \"_\"))\n",
    "        output_format_enum = OutputFormat[output_format.replace(\"-\", \"_\").upper()]\n",
    "\n",
    "        curr_queries = get_current_queries(mmmlu_subset,\n",
    "                                            lang_enum,\n",
    "                                            chosen_subtasks,\n",
    "                                            input_format_enum,\n",
    "                                            output_format_enum,\n",
    "                                            shuffle_method_enum,\n",
    "                                            )\n",
    "\n",
    "        log_path = Path(f\"./mmmlu_output/{log_file_name}\")\n",
    "        if log_path.exists():\n",
    "            with log_path.open('r', encoding='utf-8') as file:\n",
    "                for idx, line in enumerate(file):\n",
    "                    curr_query = curr_queries[idx]\n",
    "                    curr_result_dict = {}\n",
    "                    response_dict = json.loads(line.strip())\n",
    "                    response = response_dict['kwargs']['content']\n",
    "                    extracted_answer = extract_answer_from_response(response)\n",
    "\n",
    "                    curr_result_dict['Model'] = model_name\n",
    "                    curr_result_dict['Language'] = lang_string\n",
    "                    curr_result_dict['Subtask'] = curr_query['Subtask']\n",
    "                    curr_result_dict['Question id in subtask'] = curr_query['Question id in subtask']\n",
    "                    curr_result_dict['Shuffle method'] = shuffle_method\n",
    "                    curr_result_dict['Original to shuffled'] = curr_query['Original to shuffled']\n",
    "                    curr_result_dict['Input format'] = input_format\n",
    "                    curr_result_dict['Output format'] = output_format\n",
    "                    curr_result_dict['Query'] = curr_query['Query']\n",
    "                    curr_result_dict['Original correct answer'] = curr_query['Original correct answer']\n",
    "                    curr_result_dict['Shuffled correct answer'] = curr_query['Shuffled correct answer']\n",
    "                    curr_result_dict['Response answer'] = extracted_answer\n",
    "                    curr_result_dict['Model output'] = response\n",
<<<<<<< HEAD
    "                    if model_name == 'llama-v3p1-8b-instruct':\n",
    "                        curr_result_dict['logprobs'] = response_dict['kwargs']['response_metadata']['logprobs']\n",
    "                    else:\n",
    "                        curr_result_dict['logprobs'] = []\n",
    "                        \n",
=======
    "\n",
>>>>>>> 36b14a94a751fdc658384cfed43c832fbeb4cb51
    "                    merged_result_dict[model_name].append(curr_result_dict)\n",
    "\n",
    "experiment_dfs = [pd.DataFrame(val_list) for val_list in merged_result_dict.values()]"
   ]
  },
  {
   "cell_type": "code",
<<<<<<< HEAD
   "execution_count": 7,
   "id": "26e01def",
   "metadata": {},
   "outputs": [
    {
     "name": "stdout",
     "output_type": "stream",
     "text": [
      "gemini-2.0-flash\n",
      "mistral-small-2503\n",
      "llama-v3p1-8b-instruct\n"
     ]
    }
   ],
=======
   "execution_count": null,
   "id": "6e99a2cf",
   "metadata": {},
   "outputs": [],
>>>>>>> 36b14a94a751fdc658384cfed43c832fbeb4cb51
   "source": [
    "for df in experiment_dfs:\n",
    "    model_name = df['Model'][0]\n",
    "    print(model_name)\n",
    "    csv_name = f\"{model_name}_merged_results.csv\"\n",
    "    df.to_csv(csv_name, index=False)"
   ]
  },
  {
   "cell_type": "code",
   "execution_count": null,
<<<<<<< HEAD
   "id": "fa87ef06",
=======
   "id": "ee87dfce",
>>>>>>> 36b14a94a751fdc658384cfed43c832fbeb4cb51
   "metadata": {},
   "outputs": [],
   "source": [
    "test_df = pd.read_csv('gemini-2.0-flash_merged_results.csv')"
   ]
  }
 ],
 "metadata": {
<<<<<<< HEAD
  "kernelspec": {
   "display_name": "Python 3",
   "language": "python",
   "name": "python3"
  },
  "language_info": {
   "codemirror_mode": {
    "name": "ipython",
    "version": 3
   },
   "file_extension": ".py",
   "mimetype": "text/x-python",
   "name": "python",
   "nbconvert_exporter": "python",
   "pygments_lexer": "ipython3",
   "version": "3.9.21"
=======
  "language_info": {
   "name": "python"
>>>>>>> 36b14a94a751fdc658384cfed43c832fbeb4cb51
  }
 },
 "nbformat": 4,
 "nbformat_minor": 5
}
